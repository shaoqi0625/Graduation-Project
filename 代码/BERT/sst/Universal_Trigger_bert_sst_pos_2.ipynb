{
 "cells": [
  {
   "cell_type": "code",
   "execution_count": 11,
   "id": "57bb186f-c6aa-4db2-a414-354366fcead1",
   "metadata": {
    "tags": []
   },
   "outputs": [
    {
     "name": "stderr",
     "output_type": "stream",
     "text": [
      "Some weights of BertForSequenceClassification were not initialized from the model checkpoint at PreTrainedModelBert/pytorch_model.bin and are newly initialized: ['classifier.bias', 'classifier.weight']\n",
      "You should probably TRAIN this model on a down-stream task to be able to use it for predictions and inference.\n"
     ]
    }
   ],
   "source": [
    "import torch\n",
    "from torch import nn\n",
    "import os\n",
    "import random\n",
    "from torch.utils import data\n",
    "from tqdm import tqdm\n",
    "import numpy as np\n",
    "from copy import deepcopy\n",
    "from transformers import BertTokenizer, BertForSequenceClassification, BertConfig\n",
    "import warnings\n",
    "import csv\n",
    "import re\n",
    "\n",
    "warnings.filterwarnings('ignore')\n",
    "\n",
    "global extracted_grads\n",
    "\n",
    "extracted_grads = []\n",
    "position = 1  # concatenation position\n",
    "# the concatenation position of the BERT model is after the [CLS] token\n",
    "# Random Concatenation Mode\n",
    "# position = random.randint(1,500)\n",
    "\n",
    "BERT_path = 'PreTrainedModelBert'  # path to bert model\n",
    "tokenize = BertTokenizer.from_pretrained(os.path.join(BERT_path, 'vocab.txt'))\n",
    "model_config = BertConfig.from_pretrained(os.path.join(BERT_path, 'config.json'))\n",
    "Model = BertForSequenceClassification.from_pretrained(os.path.join(BERT_path, 'pytorch_model.bin'), config=model_config)\n",
    "\n",
    "# Load model related information\n",
    "\n",
    "# Print the number of Total Parameters\n",
    "# total = [param.nelement() for param in Model.parameters()]\n",
    "# print(f'total parameters:{format(sum(total))}\\n each layer parameters{total} ')\n",
    "\n",
    "'''\n",
    "SST-2 Data\n",
    "'''\n",
    "\n",
    "\n",
    "### Load data\n",
    "\n",
    "def read_sst_data(data_dir):\n",
    "    data, labels = [], []\n",
    "    csv.register_dialect('my', delimiter='\\t', quoting=csv.QUOTE_ALL)\n",
    "    with open(data_dir) as tsvfile:\n",
    "        file_list = csv.reader(tsvfile, \"my\")\n",
    "        first = True\n",
    "        for line in file_list:\n",
    "            if first:\n",
    "                first = False\n",
    "                continue\n",
    "            data.append(line[1])\n",
    "            labels.append(int(line[0]))\n",
    "    csv.unregister_dialect('my')\n",
    "    return data, labels\n",
    "\n",
    "\n",
    "def read_sst_test_data(data_dir):\n",
    "    data, labels = [], []\n",
    "    csv.register_dialect('my', delimiter='\\t', quoting=csv.QUOTE_ALL)\n",
    "    with open(data_dir) as tsvfile:\n",
    "        file_list = csv.reader(tsvfile, \"my\")\n",
    "        first = True\n",
    "        for line in file_list:\n",
    "            if first:\n",
    "                first = False\n",
    "                continue\n",
    "            if line[0] == '1':  # pos\n",
    "                data.append(line[1])\n",
    "                labels.append(int(line[0]))\n",
    "    csv.unregister_dialect('my')\n",
    "    return data, labels\n",
    "\n",
    "\n",
    "def load_sst_array(data_arrays, batch_size, is_train=True):\n",
    "    \"\"\"Constructs a PyTorch data iterator.\"\"\"\n",
    "    dataset = data.TensorDataset(*data_arrays)\n",
    "    return data.DataLoader(dataset, batch_size, shuffle=is_train)\n",
    "\n",
    "\n",
    "def load_sst_data(batch_size, num_steps=500):\n",
    "    train_data = read_sst_data(\"SST-2/train.tsv\")\n",
    "    test_data = read_sst_test_data(\"SST-2/test.tsv\")\n",
    "    train_encoding = tokenize(train_data[0], return_tensors=\"pt\", padding=True, truncation=True, max_length=num_steps)\n",
    "    test_encoding = tokenize(test_data[0], return_tensors=\"pt\", padding=True, truncation=True, max_length=num_steps)\n",
    "    train_iter = load_sst_array(\n",
    "        (train_encoding['input_ids'], train_encoding['token_type_ids'], torch.tensor(train_data[1])),\n",
    "        batch_size)\n",
    "    test_iter = load_sst_array(\n",
    "        (test_encoding['input_ids'], test_encoding['token_type_ids'], torch.tensor(test_data[1])),\n",
    "        1,\n",
    "        is_train=False)\n",
    "    return train_iter, test_iter\n",
    "\n",
    "def try_all_gpus():\n",
    "    devices = [torch.device(f'cuda:{i}')\n",
    "               for i in range(torch.cuda.device_count())]\n",
    "    return devices if devices else [torch.device('cpu')]\n",
    "\n",
    "\n",
    "### Train\n",
    "\n",
    "def train(net, train_iter, lr, num_epochs, device):\n",
    "    print('---------------------------start---------------------')\n",
    "    optimizer = torch.optim.AdamW(net.parameters(), lr=lr)\n",
    "    net = net.to(device[0])\n",
    "    for epoch in range(num_epochs):\n",
    "        net.train()\n",
    "        print(f' epoch {epoch + 1}')\n",
    "        train_losses = []\n",
    "        train_accs = []\n",
    "        train_length = 0\n",
    "        for batch in tqdm(train_iter):\n",
    "            a, b, y = batch\n",
    "            a = a.to(device[0])\n",
    "            b = b.to(device[0])\n",
    "            y = y.to(device[0])\n",
    "            outputs = net(input_ids=a, token_type_ids=b, labels=y)\n",
    "            logits = outputs.logits\n",
    "            l = outputs.loss\n",
    "            optimizer.zero_grad()\n",
    "            l.backward()\n",
    "            optimizer.step()\n",
    "            acc = (logits.argmax(dim=-1) == y).float().mean()\n",
    "            train_losses.append(l)\n",
    "            train_accs.append(acc)\n",
    "            train_length += len(y)\n",
    "        print(\"Learning rate for epoch %d：%f\" % (epoch + 1, optimizer.param_groups[0]['lr']))\n",
    "        train_loss = sum(train_losses) / len(train_iter)\n",
    "        train_acc = sum(train_accs) / len(train_iter)\n",
    "        print(f\"[ Train | {epoch + 1:03d}/{num_epochs:03d} ] loss = {train_loss:.5f}   acc = {train_acc:.5f}\")\n",
    "    print('Training process has finished.')\n",
    "    print('the loss of model {:.3f}'.format(train_loss))\n",
    "\n",
    "\n",
    "def evaluate_no(net, test_iter):\n",
    "    net = net.to(device[0])\n",
    "    net.eval()\n",
    "    valid_accs = []\n",
    "    with torch.no_grad():\n",
    "        for batch in tqdm(test_iter):\n",
    "            a, b, y = batch\n",
    "            a = a.to(device[0])\n",
    "            b = b.to(device[0])\n",
    "            y = y.to(device[0])\n",
    "            outputs = net(input_ids=a, token_type_ids=b, labels=y)\n",
    "            acc = (outputs.logits.argmax(dim=-1) == y).float().mean()\n",
    "            valid_accs.append(acc)\n",
    "    valid_acc = sum(valid_accs) / len(test_iter)\n",
    "    return valid_acc\n",
    "\n",
    "\n",
    "### Trigger Token\n",
    "\n",
    "def init_trigger_tokens(trigger, num_trigger_tokens):\n",
    "    # Initialize trigger tokens, we use 'the' as initial trigger token\n",
    "    trigger_token_ids = [1996] * num_trigger_tokens  # 1996 means 'the'\n",
    "    trigger_token_tensor = torch.tensor(trigger_token_ids)\n",
    "    return trigger_token_tensor\n",
    "\n",
    "\n",
    "def evaluate(net, test_iter, trigger_token_tensor):\n",
    "    # evaluate the accuracy of the model after concatenating the initial trigger token\n",
    "    net = net.to(device[0])\n",
    "    net.eval()\n",
    "    valid_accs = []\n",
    "    n = torch.tensor([0] * len(trigger_token_tensor))\n",
    "    m = deepcopy(trigger_token_tensor)\n",
    "    m = m.unsqueeze(0)\n",
    "    n = n.unsqueeze(0)\n",
    "    with torch.no_grad():\n",
    "        for batch in tqdm(test_iter):\n",
    "            a, b, y = batch\n",
    "            a = torch.cat((a[:, :position], m.repeat_interleave(a.shape[0], dim=0), a[:, position:]), dim=1)\n",
    "            b = torch.cat((b[:, :position], n.repeat_interleave(b.shape[0], dim=0), b[:, position:]), dim=1)\n",
    "            a = a.to(device[0])\n",
    "            b = b.to(device[0])\n",
    "            y = y.to(device[0])\n",
    "            outputs = net(input_ids=a, token_type_ids=b, labels=y)\n",
    "            acc = (outputs.logits.argmax(dim=-1) == y).float().mean()\n",
    "            valid_accs.append(acc)\n",
    "    valid_acc = sum(valid_accs) / len(test_iter)\n",
    "    return valid_acc\n",
    "\n",
    "\n",
    "def extract_grad_hook(net, grad_in, grad_out):  # store the gradient in extracted_grads\n",
    "    extracted_grads.append(grad_out[0].mean(dim=0))\n",
    "\n",
    "\n",
    "def add_hook(net):\n",
    "    for module in net.modules():\n",
    "        if isinstance(module, nn.Embedding):\n",
    "            hook = module.register_backward_hook(extract_grad_hook)\n",
    "            break\n",
    "    return hook\n",
    "\n",
    "\n",
    "def get_gradient(net, test_iter, trigger_token_tensor):  # Calculate the loss to get the gradient\n",
    "    net = net.to(device[0])\n",
    "    net.train()\n",
    "    m = deepcopy(trigger_token_tensor)\n",
    "    m = m.unsqueeze(0)\n",
    "    n = torch.tensor([0] * len(trigger_token_tensor))\n",
    "    n = n.unsqueeze(0)\n",
    "    optimizer = torch.optim.AdamW(net.parameters())\n",
    "    for batch in tqdm(test_iter):\n",
    "        a, b, y = batch\n",
    "        a = torch.cat((a[:, :position], m.repeat_interleave(a.shape[0], dim=0), a[:, position:]), dim=1)\n",
    "        b = torch.cat((b[:, :position], n.repeat_interleave(b.shape[0], dim=0), b[:, position:]), dim=1)\n",
    "        a = a.to(device[0])\n",
    "        b = b.to(device[0])\n",
    "        y = y.to(device[0])\n",
    "        outputs = net(input_ids=a, token_type_ids=b, labels=y)\n",
    "        l = outputs.loss\n",
    "        optimizer.zero_grad()\n",
    "        l.backward()\n",
    "\n",
    "\n",
    "def process_gradient(length, num_trigger_tokens):  # Process the gradient to get the average gradient\n",
    "    extracted_grads_copy = extracted_grads\n",
    "    extracted_grads_copy[0] = extracted_grads_copy[0]\n",
    "    temp = extracted_grads_copy[0]\n",
    "    temp = temp.unsqueeze(0)\n",
    "    for i in range(1, length - 1):\n",
    "        extracted_grads_copy[i] = extracted_grads_copy[i]\n",
    "        extracted_grads_copy[i] = extracted_grads_copy[i].unsqueeze(0)\n",
    "        temp = torch.cat((temp, extracted_grads_copy[i]), dim=0)\n",
    "    average_grad = temp.mean(dim=0)[position:position + num_trigger_tokens]\n",
    "    return average_grad\n",
    "\n",
    "\n",
    "def hotflip_attack(averaged_grad, embedding_matrix,\n",
    "                   num_candidates=1, increase_loss=False):\n",
    "    averaged_grad = averaged_grad.cpu()\n",
    "    embedding_matrix = embedding_matrix.cpu()\n",
    "    averaged_grad = averaged_grad.unsqueeze(0)\n",
    "    gradient_dot_embedding_matrix = torch.einsum(\"bij,kj->bik\",\n",
    "                                                 (averaged_grad, embedding_matrix))\n",
    "    if not increase_loss:\n",
    "        gradient_dot_embedding_matrix *= -1\n",
    "        # lower versus increase the class probability.\n",
    "    if num_candidates > 1:  # get top k options\n",
    "        _, best_k_ids = torch.topk(gradient_dot_embedding_matrix, num_candidates, dim=2)\n",
    "        return best_k_ids.detach().cpu().numpy()[0]  # Return candidates\n",
    "    _, best_at_each_step = gradient_dot_embedding_matrix.max(2)\n",
    "    return best_at_each_step[0].detach().cpu().numpy()\n",
    "\n",
    "\n",
    "def collection_attack(net, test_iter, num_candidates, num_epoch, trigger='the',  # Summarize each function\n",
    "                      num_trigger_tokens=3):\n",
    "    trigger_token_tensor = init_trigger_tokens(trigger, num_trigger_tokens)\n",
    "    print(f'Concatenation location:{position}')\n",
    "    valid_acc = evaluate(net, test_iter, trigger_token_tensor)\n",
    "    print(f'Initial trigger tokens state：the accuracy {valid_acc:.5f}')\n",
    "    embedding_weight = get_embedding_weight(net)\n",
    "    for i in range(num_epoch):\n",
    "        extracted_grads.clear()\n",
    "        hook = add_hook(net)\n",
    "        get_gradient(net, test_iter, trigger_token_tensor)\n",
    "        hook.remove()\n",
    "        average_grad = process_gradient(len(test_iter), num_trigger_tokens)\n",
    "        hot_token = hotflip_attack(average_grad, embedding_weight, num_candidates, increase_loss=True)\n",
    "        hot_token_tensor = torch.from_numpy(hot_token)\n",
    "        trigger_token_tensor, valid_acc = select_best_candid(net, test_iter, hot_token_tensor, trigger_token_tensor,\n",
    "                                                             valid_acc)\n",
    "        print(f'after {i + 1} rounds of attacking\\ntriggers: {trigger_token_tensor} \\nthe accuracy :{valid_acc:.5f} ')\n",
    "    return trigger_token_tensor, valid_acc  # Return the final trigger tokens (trigger length) and the accuracy after the attack\n",
    "\n",
    "\n",
    "def get_embedding_weight(net):\n",
    "    for module in net.modules():\n",
    "        if isinstance(module, nn.Embedding):\n",
    "            weight = module.weight\n",
    "            break\n",
    "    return weight\n",
    "\n",
    "\n",
    "def select_best_candid(net, test_iter, candid_trigger, trigger_token, valid_acc):\n",
    "    # Concatenate each candidate to each input to determine the final trigger token\n",
    "    n = torch.tensor([0] * len(trigger_token))\n",
    "    n = n.unsqueeze(0)\n",
    "    trigger_token = trigger_token.unsqueeze(0)\n",
    "    net.eval()\n",
    "    valid_accs = []\n",
    "    for i in range(candid_trigger.shape[0]):\n",
    "        trigger_token_temp = deepcopy(trigger_token)\n",
    "        for j in range(candid_trigger.shape[1]):\n",
    "            trigger_token_temp[0, i] = candid_trigger[i, j]\n",
    "            valid_accs = []\n",
    "            for batch in tqdm(test_iter):\n",
    "                a, b, y = batch\n",
    "                a = torch.cat((a[:, :position], trigger_token_temp.repeat_interleave(a.shape[0], dim=0),\n",
    "                               a[:, position:]), dim=1)\n",
    "                b = torch.cat((b[:, :position], n.repeat_interleave(b.shape[0], dim=0),\n",
    "                               b[:, position:]), dim=1)\n",
    "                a = a.to(device[0])\n",
    "                b = b.to(device[0])\n",
    "                y = y.to(device[0])\n",
    "                outputs = net(input_ids=a, token_type_ids=b, labels=y)\n",
    "                acc = (outputs.logits.argmax(dim=-1) == y).float().mean()\n",
    "                valid_accs.append(acc)\n",
    "            temp = sum(valid_accs) / len(test_iter)\n",
    "            if temp < valid_acc:\n",
    "                valid_acc = temp\n",
    "                trigger_token[0, i] = candid_trigger[i, j]\n",
    "    return trigger_token[0], valid_acc  # Return the final trigger token and the accuracy after the attack\n"
   ]
  },
  {
   "cell_type": "code",
   "execution_count": 12,
   "id": "42d7f231-49b8-4f2b-8637-ab458b6f8ee0",
   "metadata": {
    "tags": []
   },
   "outputs": [
    {
     "name": "stdout",
     "output_type": "stream",
     "text": [
      "reading data finished\n",
      "\n",
      "6735\n",
      "909\n"
     ]
    }
   ],
   "source": [
    "train_iter, test_iter = load_sst_data(10)\n",
    "# Data preprocessing and loading\n",
    "print(\"reading data finished\\n\")\n",
    "print(len(train_iter))\n",
    "print(len(test_iter))"
   ]
  },
  {
   "cell_type": "code",
   "execution_count": 13,
   "id": "75b85ea2-a756-4397-ab16-ab9148a727fc",
   "metadata": {
    "tags": []
   },
   "outputs": [
    {
     "name": "stderr",
     "output_type": "stream",
     "text": [
      "100%|██████████| 909/909 [00:05<00:00, 162.79it/s]\n"
     ]
    },
    {
     "data": {
      "text/plain": [
       "tensor(0.9560, device='cuda:0')"
      ]
     },
     "execution_count": 13,
     "metadata": {},
     "output_type": "execute_result"
    }
   ],
   "source": [
    "device = try_all_gpus()\n",
    "model = torch.load('Bert_sst.bin')\n",
    "evaluate_no(model, test_iter)"
   ]
  },
  {
   "cell_type": "code",
   "execution_count": 17,
   "id": "609b0df2-953f-40a6-822c-233063158165",
   "metadata": {
    "tags": []
   },
   "outputs": [
    {
     "name": "stdout",
     "output_type": "stream",
     "text": [
      "Concatenation location:1\n"
     ]
    },
    {
     "name": "stderr",
     "output_type": "stream",
     "text": [
      "100%|██████████| 909/909 [00:05<00:00, 156.85it/s]\n"
     ]
    },
    {
     "name": "stdout",
     "output_type": "stream",
     "text": [
      "Initial trigger tokens state：the accuracy 0.94389\n"
     ]
    },
    {
     "name": "stderr",
     "output_type": "stream",
     "text": [
      "100%|██████████| 909/909 [00:46<00:00, 19.41it/s]\n",
      "100%|██████████| 909/909 [00:07<00:00, 127.91it/s]\n",
      "100%|██████████| 909/909 [00:07<00:00, 128.89it/s]\n",
      "100%|██████████| 909/909 [00:07<00:00, 125.37it/s]\n",
      "100%|██████████| 909/909 [00:07<00:00, 124.38it/s]\n",
      "100%|██████████| 909/909 [00:07<00:00, 127.31it/s]\n",
      "100%|██████████| 909/909 [00:07<00:00, 128.15it/s]\n",
      "100%|██████████| 909/909 [00:06<00:00, 131.03it/s]\n",
      "100%|██████████| 909/909 [00:06<00:00, 131.22it/s]\n",
      "100%|██████████| 909/909 [00:06<00:00, 130.81it/s]\n",
      "100%|██████████| 909/909 [00:06<00:00, 130.35it/s]\n"
     ]
    },
    {
     "name": "stdout",
     "output_type": "stream",
     "text": [
      "after 1 rounds of attacking\n",
      "triggers: tensor([ 1083, 16023]) \n",
      "the accuracy :0.89879 \n"
     ]
    },
    {
     "name": "stderr",
     "output_type": "stream",
     "text": [
      "100%|██████████| 909/909 [00:45<00:00, 19.77it/s]\n",
      "100%|██████████| 909/909 [00:06<00:00, 130.44it/s]\n",
      "100%|██████████| 909/909 [00:07<00:00, 129.07it/s]\n",
      "100%|██████████| 909/909 [00:07<00:00, 126.90it/s]\n",
      "100%|██████████| 909/909 [00:07<00:00, 127.28it/s]\n",
      "100%|██████████| 909/909 [00:07<00:00, 128.73it/s]\n",
      "100%|██████████| 909/909 [00:06<00:00, 130.92it/s]\n",
      "100%|██████████| 909/909 [00:06<00:00, 130.80it/s]\n",
      "100%|██████████| 909/909 [00:07<00:00, 126.82it/s]\n",
      "100%|██████████| 909/909 [00:06<00:00, 130.04it/s]\n",
      "100%|██████████| 909/909 [00:06<00:00, 131.32it/s]\n"
     ]
    },
    {
     "name": "stdout",
     "output_type": "stream",
     "text": [
      "after 2 rounds of attacking\n",
      "triggers: tensor([9467, 5949]) \n",
      "the accuracy :0.60176 \n"
     ]
    },
    {
     "name": "stderr",
     "output_type": "stream",
     "text": [
      "100%|██████████| 909/909 [00:45<00:00, 19.89it/s]\n",
      "100%|██████████| 909/909 [00:07<00:00, 129.12it/s]\n",
      "100%|██████████| 909/909 [00:07<00:00, 129.22it/s]\n",
      "100%|██████████| 909/909 [00:07<00:00, 129.17it/s]\n",
      "100%|██████████| 909/909 [00:07<00:00, 129.86it/s]\n",
      "100%|██████████| 909/909 [00:06<00:00, 129.98it/s]\n",
      "100%|██████████| 909/909 [00:06<00:00, 130.62it/s]\n",
      "100%|██████████| 909/909 [00:06<00:00, 130.51it/s]\n",
      "100%|██████████| 909/909 [00:07<00:00, 128.23it/s]\n",
      "100%|██████████| 909/909 [00:06<00:00, 131.05it/s]\n",
      "100%|██████████| 909/909 [00:07<00:00, 129.55it/s]\n"
     ]
    },
    {
     "name": "stdout",
     "output_type": "stream",
     "text": [
      "after 3 rounds of attacking\n",
      "triggers: tensor([17203,  5949]) \n",
      "the accuracy :0.40814 \n"
     ]
    },
    {
     "name": "stderr",
     "output_type": "stream",
     "text": [
      "100%|██████████| 909/909 [00:47<00:00, 19.07it/s]\n",
      "100%|██████████| 909/909 [00:06<00:00, 130.07it/s]\n",
      "100%|██████████| 909/909 [00:07<00:00, 128.52it/s]\n",
      "100%|██████████| 909/909 [00:07<00:00, 124.94it/s]\n",
      "100%|██████████| 909/909 [00:07<00:00, 126.33it/s]\n",
      "100%|██████████| 909/909 [00:07<00:00, 127.39it/s]\n",
      "100%|██████████| 909/909 [00:07<00:00, 126.08it/s]\n",
      "100%|██████████| 909/909 [00:07<00:00, 126.01it/s]\n",
      "100%|██████████| 909/909 [00:07<00:00, 127.10it/s]\n",
      "100%|██████████| 909/909 [00:07<00:00, 127.80it/s]\n",
      "100%|██████████| 909/909 [00:07<00:00, 128.45it/s]\n"
     ]
    },
    {
     "name": "stdout",
     "output_type": "stream",
     "text": [
      "after 4 rounds of attacking\n",
      "triggers: tensor([8239, 5949]) \n",
      "the accuracy :0.38064 \n"
     ]
    },
    {
     "name": "stderr",
     "output_type": "stream",
     "text": [
      "100%|██████████| 909/909 [00:46<00:00, 19.35it/s]\n",
      "100%|██████████| 909/909 [00:06<00:00, 129.90it/s]\n",
      "100%|██████████| 909/909 [00:07<00:00, 129.18it/s]\n",
      "100%|██████████| 909/909 [00:06<00:00, 129.92it/s]\n",
      "100%|██████████| 909/909 [00:06<00:00, 130.03it/s]\n",
      "100%|██████████| 909/909 [00:07<00:00, 128.80it/s]\n",
      "100%|██████████| 909/909 [00:07<00:00, 128.83it/s]\n",
      "100%|██████████| 909/909 [00:06<00:00, 130.45it/s]\n",
      "100%|██████████| 909/909 [00:07<00:00, 122.00it/s]\n",
      "100%|██████████| 909/909 [00:07<00:00, 119.68it/s]\n",
      "100%|██████████| 909/909 [00:07<00:00, 128.85it/s]\n"
     ]
    },
    {
     "name": "stdout",
     "output_type": "stream",
     "text": [
      "after 5 rounds of attacking\n",
      "triggers: tensor([5667, 5949]) \n",
      "the accuracy :0.27723 \n"
     ]
    },
    {
     "name": "stderr",
     "output_type": "stream",
     "text": [
      "100%|██████████| 909/909 [00:47<00:00, 19.02it/s]\n",
      "100%|██████████| 909/909 [00:07<00:00, 126.60it/s]\n",
      "100%|██████████| 909/909 [00:07<00:00, 127.55it/s]\n",
      "100%|██████████| 909/909 [00:07<00:00, 128.77it/s]\n",
      "100%|██████████| 909/909 [00:07<00:00, 126.04it/s]\n",
      "100%|██████████| 909/909 [00:07<00:00, 127.76it/s]\n",
      "100%|██████████| 909/909 [00:07<00:00, 127.22it/s]\n",
      "100%|██████████| 909/909 [00:07<00:00, 123.10it/s]\n",
      "100%|██████████| 909/909 [00:07<00:00, 123.44it/s]\n",
      "100%|██████████| 909/909 [00:07<00:00, 126.01it/s]\n",
      "100%|██████████| 909/909 [00:07<00:00, 126.64it/s]\n"
     ]
    },
    {
     "name": "stdout",
     "output_type": "stream",
     "text": [
      "after 6 rounds of attacking\n",
      "triggers: tensor([5667, 5949]) \n",
      "the accuracy :0.27723 \n"
     ]
    },
    {
     "name": "stderr",
     "output_type": "stream",
     "text": [
      "100%|██████████| 909/909 [00:47<00:00, 19.21it/s]\n",
      "100%|██████████| 909/909 [00:07<00:00, 127.00it/s]\n",
      "100%|██████████| 909/909 [00:07<00:00, 129.29it/s]\n",
      "100%|██████████| 909/909 [00:07<00:00, 126.70it/s]\n",
      "100%|██████████| 909/909 [00:07<00:00, 126.88it/s]\n",
      "100%|██████████| 909/909 [00:07<00:00, 127.04it/s]\n",
      "100%|██████████| 909/909 [00:07<00:00, 124.57it/s]\n",
      "100%|██████████| 909/909 [00:07<00:00, 126.87it/s]\n",
      "100%|██████████| 909/909 [00:07<00:00, 122.91it/s]\n",
      "100%|██████████| 909/909 [00:07<00:00, 124.04it/s]\n",
      "100%|██████████| 909/909 [00:07<00:00, 126.96it/s]\n"
     ]
    },
    {
     "name": "stdout",
     "output_type": "stream",
     "text": [
      "after 7 rounds of attacking\n",
      "triggers: tensor([5667, 5949]) \n",
      "the accuracy :0.27723 \n"
     ]
    },
    {
     "name": "stderr",
     "output_type": "stream",
     "text": [
      "100%|██████████| 909/909 [00:47<00:00, 18.97it/s]\n",
      "100%|██████████| 909/909 [00:07<00:00, 126.30it/s]\n",
      "100%|██████████| 909/909 [00:07<00:00, 124.21it/s]\n",
      "100%|██████████| 909/909 [00:07<00:00, 128.74it/s]\n",
      "100%|██████████| 909/909 [00:07<00:00, 128.16it/s]\n",
      "100%|██████████| 909/909 [00:07<00:00, 128.07it/s]\n",
      "100%|██████████| 909/909 [00:07<00:00, 128.81it/s]\n",
      "100%|██████████| 909/909 [00:07<00:00, 127.71it/s]\n",
      "100%|██████████| 909/909 [00:07<00:00, 127.03it/s]\n",
      "100%|██████████| 909/909 [00:07<00:00, 128.65it/s]\n",
      "100%|██████████| 909/909 [00:07<00:00, 125.03it/s]\n"
     ]
    },
    {
     "name": "stdout",
     "output_type": "stream",
     "text": [
      "after 8 rounds of attacking\n",
      "triggers: tensor([5667, 5949]) \n",
      "the accuracy :0.27723 \n"
     ]
    },
    {
     "name": "stderr",
     "output_type": "stream",
     "text": [
      "100%|██████████| 909/909 [00:47<00:00, 19.02it/s]\n",
      "100%|██████████| 909/909 [00:06<00:00, 130.29it/s]\n",
      "100%|██████████| 909/909 [00:07<00:00, 129.29it/s]\n",
      "100%|██████████| 909/909 [00:07<00:00, 127.56it/s]\n",
      "100%|██████████| 909/909 [00:07<00:00, 127.05it/s]\n",
      "100%|██████████| 909/909 [00:07<00:00, 128.22it/s]\n",
      "100%|██████████| 909/909 [00:06<00:00, 130.46it/s]\n",
      "100%|██████████| 909/909 [00:07<00:00, 127.46it/s]\n",
      "100%|██████████| 909/909 [00:06<00:00, 130.76it/s]\n",
      "100%|██████████| 909/909 [00:06<00:00, 130.68it/s]\n",
      "100%|██████████| 909/909 [00:06<00:00, 129.94it/s]\n"
     ]
    },
    {
     "name": "stdout",
     "output_type": "stream",
     "text": [
      "after 9 rounds of attacking\n",
      "triggers: tensor([5667, 5949]) \n",
      "the accuracy :0.27723 \n"
     ]
    },
    {
     "name": "stderr",
     "output_type": "stream",
     "text": [
      "100%|██████████| 909/909 [00:48<00:00, 18.91it/s]\n",
      "100%|██████████| 909/909 [00:07<00:00, 127.95it/s]\n",
      "100%|██████████| 909/909 [00:07<00:00, 127.82it/s]\n",
      "100%|██████████| 909/909 [00:07<00:00, 126.48it/s]\n",
      "100%|██████████| 909/909 [00:07<00:00, 128.91it/s]\n",
      "100%|██████████| 909/909 [00:07<00:00, 129.09it/s]\n",
      "100%|██████████| 909/909 [00:07<00:00, 128.32it/s]\n",
      "100%|██████████| 909/909 [00:07<00:00, 128.13it/s]\n",
      "100%|██████████| 909/909 [00:07<00:00, 127.88it/s]\n",
      "100%|██████████| 909/909 [00:07<00:00, 127.49it/s]\n",
      "100%|██████████| 909/909 [00:07<00:00, 128.55it/s]"
     ]
    },
    {
     "name": "stdout",
     "output_type": "stream",
     "text": [
      "after 10 rounds of attacking\n",
      "triggers: tensor([5667, 5949]) \n",
      "the accuracy :0.27723 \n"
     ]
    },
    {
     "name": "stderr",
     "output_type": "stream",
     "text": [
      "\n"
     ]
    },
    {
     "data": {
      "text/plain": [
       "(tensor([5667, 5949]), tensor(0.2772, device='cuda:0'))"
      ]
     },
     "execution_count": 17,
     "metadata": {},
     "output_type": "execute_result"
    }
   ],
   "source": [
    "collection_attack(model, test_iter, 5, 10, trigger='the', num_trigger_tokens=2)"
   ]
  },
  {
   "cell_type": "code",
   "execution_count": null,
   "id": "bfdd8461-b0df-44cd-811d-476379577783",
   "metadata": {},
   "outputs": [],
   "source": []
  }
 ],
 "metadata": {
  "kernelspec": {
   "display_name": "Python 3 (ipykernel)",
   "language": "python",
   "name": "python3"
  },
  "language_info": {
   "codemirror_mode": {
    "name": "ipython",
    "version": 3
   },
   "file_extension": ".py",
   "mimetype": "text/x-python",
   "name": "python",
   "nbconvert_exporter": "python",
   "pygments_lexer": "ipython3",
   "version": "3.8.10"
  }
 },
 "nbformat": 4,
 "nbformat_minor": 5
}
