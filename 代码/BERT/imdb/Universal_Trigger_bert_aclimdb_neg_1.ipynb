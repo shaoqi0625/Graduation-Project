{
 "cells": [
  {
   "cell_type": "code",
   "execution_count": 1,
   "id": "2af5a35e-cb29-4631-aa80-13221033054f",
   "metadata": {
    "tags": []
   },
   "outputs": [
    {
     "name": "stderr",
     "output_type": "stream",
     "text": [
      "Some weights of BertForSequenceClassification were not initialized from the model checkpoint at PreTrainedModelBert/pytorch_model.bin and are newly initialized: ['classifier.bias', 'classifier.weight']\n",
      "You should probably TRAIN this model on a down-stream task to be able to use it for predictions and inference.\n"
     ]
    }
   ],
   "source": [
    "import torch\n",
    "from torch import nn\n",
    "import os\n",
    "import random\n",
    "from torch.utils import data\n",
    "from tqdm import tqdm\n",
    "import numpy as np\n",
    "from copy import deepcopy\n",
    "from transformers import BertTokenizer, BertForSequenceClassification, BertConfig\n",
    "import warnings\n",
    "import csv\n",
    "\n",
    "warnings.filterwarnings('ignore')\n",
    "\n",
    "global extracted_grads\n",
    "\n",
    "extracted_grads = []\n",
    "position = 1  # concatenation position\n",
    "# the concatenation position of the BERT model is after the [CLS] token\n",
    "# Random Concatenation Mode\n",
    "# position = random.randint(1,500)\n",
    "\n",
    "BERT_path = 'PreTrainedModelBert'  # path to bert model\n",
    "tokenize = BertTokenizer.from_pretrained(os.path.join(BERT_path, 'vocab.txt'))\n",
    "model_config = BertConfig.from_pretrained(os.path.join(BERT_path, 'config.json'))\n",
    "Model = BertForSequenceClassification.from_pretrained(os.path.join(BERT_path, 'pytorch_model.bin'), config=model_config)\n",
    "\n",
    "# Load model related information\n",
    "\n",
    "# Print the number of Total Parameters\n",
    "# total = [param.nelement() for param in Model.parameters()]\n",
    "# print(f'total parameters:{format(sum(total))}\\n each layer parameters{total} ')\n",
    "\n",
    "'''\n",
    "SST-2 Data\n",
    "\n",
    "\n",
    "\n",
    "### Load data\n",
    "\n",
    "def read_data(data_dir):\n",
    "    data, labels = [], []\n",
    "    csv.register_dialect('my', delimiter='\\t', quoting=csv.QUOTE_ALL)\n",
    "    with open(data_dir) as tsvfile:\n",
    "        file_list = csv.reader(tsvfile, \"my\")\n",
    "        first = True\n",
    "        for line in file_list:\n",
    "            if first:\n",
    "                first = False\n",
    "                continue\n",
    "            data.append(line[1])\n",
    "            labels.append(int(line[0]))\n",
    "    csv.unregister_dialect('my')\n",
    "    return data, labels\n",
    "\n",
    "\n",
    "def read_test_data(data_dir):\n",
    "    data, labels = [], []\n",
    "    csv.register_dialect('my', delimiter='\\t', quoting=csv.QUOTE_ALL)\n",
    "    with open(data_dir) as tsvfile:\n",
    "        file_list = csv.reader(tsvfile, \"my\")\n",
    "        first = True\n",
    "        for line in file_list:\n",
    "            if first:\n",
    "                first = False\n",
    "                continue\n",
    "            if line[0] == '0':  # neg\n",
    "                data.append(line[1])\n",
    "                labels.append(int(line[0]))\n",
    "    csv.unregister_dialect('my')\n",
    "    return data, labels\n",
    "\n",
    "\n",
    "def load_array(data_arrays, batch_size, is_train=True):\n",
    "    \"\"\"Constructs a PyTorch data iterator.\"\"\"\n",
    "    dataset = data.TensorDataset(*data_arrays)\n",
    "    return data.DataLoader(dataset, batch_size, shuffle=is_train)\n",
    "\n",
    "\n",
    "def load_sst_data(batch_size, num_steps=500):\n",
    "    train_data = read_data(\"SST-2/train.tsv\")\n",
    "    test_data = read_data(\"SST-2/test.tsv\")\n",
    "    train_encoding = tokenize(train_data[0], return_tensors=\"pt\", padding=True, truncation=True, max_length=num_steps)\n",
    "    test_encoding = tokenize(test_data[0], return_tensors=\"pt\", padding=True, truncation=True, max_length=num_steps)\n",
    "    train_iter = load_array(\n",
    "        (train_encoding['input_ids'], train_encoding['token_type_ids'], torch.tensor(train_data[1])),\n",
    "        batch_size)\n",
    "    test_iter = load_array((test_encoding['input_ids'], test_encoding['token_type_ids'], torch.tensor(test_data[1])),\n",
    "                           1,\n",
    "                           is_train=False)\n",
    "    return train_iter, test_iter\n",
    "'''\n",
    "\n",
    "'''\n",
    "IMDB Data\n",
    "'''\n",
    "\n",
    "### Load data\n",
    "\n",
    "def read_data(data_dir, is_train):\n",
    "    data, labels = [], []\n",
    "    for label in ('neg', 'pos'):\n",
    "        data_path = os.path.join(data_dir, 'train' if is_train else 'test', label)\n",
    "        for file in os.listdir(data_path):\n",
    "            with open(os.path.join(data_path, file), 'rb') as f:\n",
    "                review = f.read().decode('utf-8').replace('\\n', ' ')\n",
    "                data.append(review)\n",
    "                labels.append(1 if label == 'pos' else 0)\n",
    "    return data, labels\n",
    "\n",
    "\n",
    "def read_test_data(data_dir, is_train):\n",
    "    data, labels = [], []\n",
    "    label = 'neg'  # choose a label to attack\n",
    "    data_path = os.path.join(data_dir, 'train' if is_train else 'test', label)\n",
    "    for file in os.listdir(data_path):\n",
    "        with open(os.path.join(data_path, file), 'rb') as f:\n",
    "            review = f.read().decode('utf-8').replace('\\n', ' ')\n",
    "            data.append(review)\n",
    "            labels.append(1 if label == 'pos' else 0)\n",
    "    return data, labels\n",
    "\n",
    "\n",
    "def load_array(data_arrays, batch_size, is_train=True):\n",
    "    \"\"\"Constructs a PyTorch data iterator.\"\"\"\n",
    "    dataset = data.TensorDataset(*data_arrays)\n",
    "    return data.DataLoader(dataset, batch_size, shuffle=is_train)\n",
    "\n",
    "\n",
    "def load_imdb_data(batch_size, num_steps=500):\n",
    "    data_dir = 'aclImdb'  # Path to download dataset\n",
    "    train_data = read_data(data_dir, True)\n",
    "    test_data = read_test_data(data_dir, False)\n",
    "    train_encoding = tokenize(train_data[0], return_tensors=\"pt\", padding=True, truncation=True, max_length=num_steps)\n",
    "    test_encoding = tokenize(test_data[0], return_tensors=\"pt\", padding=True, truncation=True, max_length=num_steps)\n",
    "    train_iter = load_array(\n",
    "        (train_encoding['input_ids'], train_encoding['token_type_ids'], torch.tensor(train_data[1])),\n",
    "        batch_size)\n",
    "    test_iter = load_array((test_encoding['input_ids'], test_encoding['token_type_ids'], torch.tensor(test_data[1])),\n",
    "                           batch_size,\n",
    "                           is_train=False)\n",
    "    return train_iter, test_iter\n",
    "\n",
    "def try_all_gpus():\n",
    "    devices = [torch.device(f'cuda:{i}')\n",
    "               for i in range(torch.cuda.device_count())]\n",
    "    return devices if devices else [torch.device('cpu')]"
   ]
  },
  {
   "cell_type": "code",
   "execution_count": 2,
   "id": "a03bbff2-e55f-4b55-aa92-d291fbfb19c5",
   "metadata": {
    "tags": []
   },
   "outputs": [],
   "source": [
    "### Train\n",
    "\n",
    "def train(net, train_iter, lr, num_epochs, device):\n",
    "    print('---------------------------start---------------------')\n",
    "    optimizer = torch.optim.AdamW(net.parameters(), lr=lr)\n",
    "    net = net.to(device[0])\n",
    "    for epoch in range(num_epochs):\n",
    "        net.train()\n",
    "        print(f' epoch {epoch + 1}')\n",
    "        train_losses = []\n",
    "        train_accs = []\n",
    "        train_length = 0\n",
    "        for batch in tqdm(train_iter):\n",
    "            a, b, y = batch\n",
    "            a = a.to(device[0])\n",
    "            b = b.to(device[0])\n",
    "            y = y.to(device[0])\n",
    "            outputs = net(input_ids=a, token_type_ids=b, labels=y)\n",
    "            logits = outputs.logits\n",
    "            l = outputs.loss\n",
    "            optimizer.zero_grad()\n",
    "            l.backward()\n",
    "            optimizer.step()\n",
    "            acc = (logits.argmax(dim=-1) == y).float().mean()\n",
    "            train_losses.append(l)\n",
    "            train_accs.append(acc)\n",
    "            train_length += len(y)\n",
    "        print(\"Learning rate for epoch %d：%f\" % (epoch + 1, optimizer.param_groups[0]['lr']))\n",
    "        train_loss = sum(train_losses) / len(train_iter)\n",
    "        train_acc = sum(train_accs) / len(train_iter)\n",
    "        print(f\"[ Train | {epoch + 1:03d}/{num_epochs:03d} ] loss = {train_loss:.5f}   acc = {train_acc:.5f}\")\n",
    "    print('Training process has finished.')\n",
    "    print('the loss of model {:.3f}'.format(train_loss))\n",
    "\n",
    "\n",
    "def evaluate_no(net, test_iter):\n",
    "    net = net.to(device[0])\n",
    "    net.eval()\n",
    "    valid_accs = []\n",
    "    with torch.no_grad():\n",
    "        for batch in tqdm(test_iter):\n",
    "            a, b, y = batch\n",
    "            a = a.to(device[0])\n",
    "            b = b.to(device[0])\n",
    "            y = y.to(device[0])\n",
    "            outputs = net(input_ids=a, token_type_ids=b, labels=y)\n",
    "            acc = (outputs.logits.argmax(dim=-1) == y).float().mean()\n",
    "            valid_accs.append(acc)\n",
    "    valid_acc = sum(valid_accs) / len(test_iter)\n",
    "    return valid_acc"
   ]
  },
  {
   "cell_type": "code",
   "execution_count": 3,
   "id": "52e551ae-2319-4658-94c1-8eb115cb372a",
   "metadata": {
    "tags": []
   },
   "outputs": [
    {
     "name": "stdout",
     "output_type": "stream",
     "text": [
      "reading data finished\n",
      "\n",
      "---------------------------start---------------------\n",
      " epoch 1\n"
     ]
    },
    {
     "name": "stderr",
     "output_type": "stream",
     "text": [
      "  0%|          | 0/2500 [00:00<?, ?it/s]We strongly recommend passing in an `attention_mask` since your input_ids may be padded. See https://huggingface.co/docs/transformers/troubleshooting#incorrect-output-when-padding-tokens-arent-masked.\n",
      "100%|██████████| 2500/2500 [05:40<00:00,  7.34it/s]\n"
     ]
    },
    {
     "name": "stdout",
     "output_type": "stream",
     "text": [
      "Learning rate for epoch 1：0.000005\n",
      "[ Train | 001/003 ] loss = 0.26432   acc = 0.88889\n",
      " epoch 2\n"
     ]
    },
    {
     "name": "stderr",
     "output_type": "stream",
     "text": [
      "100%|██████████| 2500/2500 [05:41<00:00,  7.32it/s]\n"
     ]
    },
    {
     "name": "stdout",
     "output_type": "stream",
     "text": [
      "Learning rate for epoch 2：0.000005\n",
      "[ Train | 002/003 ] loss = 0.16091   acc = 0.94116\n",
      " epoch 3\n"
     ]
    },
    {
     "name": "stderr",
     "output_type": "stream",
     "text": [
      "100%|██████████| 2500/2500 [05:41<00:00,  7.31it/s]\n"
     ]
    },
    {
     "name": "stdout",
     "output_type": "stream",
     "text": [
      "Learning rate for epoch 3：0.000005\n",
      "[ Train | 003/003 ] loss = 0.10624   acc = 0.96412\n",
      "Training process has finished.\n",
      "the loss of model 0.106\n"
     ]
    },
    {
     "name": "stderr",
     "output_type": "stream",
     "text": [
      "100%|██████████| 1250/1250 [00:51<00:00, 24.17it/s]\n"
     ]
    },
    {
     "data": {
      "text/plain": [
       "tensor(0.9131, device='cuda:0')"
      ]
     },
     "execution_count": 3,
     "metadata": {},
     "output_type": "execute_result"
    }
   ],
   "source": [
    "train_iter, test_iter = load_imdb_data(10)\n",
    "#train_iter, test_iter = load_sst_data(10)\n",
    "# Data preprocessing and loading\n",
    "print(\"reading data finished\\n\")\n",
    "\n",
    "device = try_all_gpus()\n",
    "# device = [torch.device('cpu')]\n",
    "train(Model, train_iter, 5e-6, 3, device)  # base BERT\n",
    "\n",
    "# train(Model, train_iter, 5e-5, 3, device) # else BERT\n",
    "# The accuracy of the model on the test set when no trigger token is concatenated\n",
    "\n",
    "evaluate_no(Model, test_iter)"
   ]
  },
  {
   "cell_type": "code",
   "execution_count": 5,
   "id": "0370cb36-7bab-4c4b-b555-c22a5ef0d111",
   "metadata": {
    "tags": []
   },
   "outputs": [],
   "source": [
    "torch.save(Model, 'Bert_IMDB_Fine_Tuning/Bert_IMDB.bin')"
   ]
  },
  {
   "cell_type": "code",
   "execution_count": 6,
   "id": "821ae5f0-2f40-4305-acdc-266ae5c0d986",
   "metadata": {
    "tags": []
   },
   "outputs": [
    {
     "name": "stderr",
     "output_type": "stream",
     "text": [
      "100%|██████████| 1250/1250 [00:51<00:00, 24.35it/s]\n"
     ]
    },
    {
     "data": {
      "text/plain": [
       "tensor(0.9131, device='cuda:0')"
      ]
     },
     "execution_count": 6,
     "metadata": {},
     "output_type": "execute_result"
    }
   ],
   "source": [
    "model = torch.load('Bert_IMDB_Fine_Tuning/Bert_IMDB.bin')\n",
    "evaluate_no(model, test_iter)"
   ]
  },
  {
   "cell_type": "code",
   "execution_count": 7,
   "id": "395db8a3-b51e-4453-ab4f-0a3599c35fd1",
   "metadata": {
    "tags": []
   },
   "outputs": [],
   "source": [
    "### Trigger Token\n",
    "\n",
    "def init_trigger_tokens(trigger, num_trigger_tokens):\n",
    "    # Initialize trigger tokens, we use 'the' as initial trigger token\n",
    "    trigger_token_ids = [1996] * num_trigger_tokens  # 1996 means 'the'\n",
    "    trigger_token_tensor = torch.tensor(trigger_token_ids)\n",
    "    return trigger_token_tensor\n",
    "\n",
    "\n",
    "def evaluate(net, test_iter, trigger_token_tensor):\n",
    "    # evaluate the accuracy of the model after concatenating the initial trigger token\n",
    "    net = net.to(device[0])\n",
    "    net.eval()\n",
    "    valid_accs = []\n",
    "    n = torch.tensor([0] * len(trigger_token_tensor))\n",
    "    m = deepcopy(trigger_token_tensor)\n",
    "    m = m.unsqueeze(0)\n",
    "    n = n.unsqueeze(0)\n",
    "    with torch.no_grad():\n",
    "        for batch in tqdm(test_iter):\n",
    "            a, b, y = batch\n",
    "            a = torch.cat((a[:, :position], m.repeat_interleave(a.shape[0], dim=0), a[:, position:]), dim=1)\n",
    "            b = torch.cat((b[:, :position], n.repeat_interleave(b.shape[0], dim=0), b[:, position:]), dim=1)\n",
    "            a = a.to(device[0])\n",
    "            b = b.to(device[0])\n",
    "            y = y.to(device[0])\n",
    "            outputs = net(input_ids=a, token_type_ids=b, labels=y)\n",
    "            acc = (outputs.logits.argmax(dim=-1) == y).float().mean()\n",
    "            valid_accs.append(acc)\n",
    "    valid_acc = sum(valid_accs) / len(test_iter)\n",
    "    return valid_acc\n",
    "\n",
    "\n",
    "def extract_grad_hook(net, grad_in, grad_out):  # store the gradient in extracted_grads\n",
    "    extracted_grads.append(grad_out[0].mean(dim=0))\n",
    "\n",
    "\n",
    "def add_hook(net):\n",
    "    for module in net.modules():\n",
    "        if isinstance(module, nn.Embedding):\n",
    "            hook = module.register_backward_hook(extract_grad_hook)\n",
    "            break\n",
    "    return hook\n",
    "\n",
    "\n",
    "def get_gradient(net, test_iter, trigger_token_tensor):  # Calculate the loss to get the gradient\n",
    "    net = net.to(device[0])\n",
    "    net.train()\n",
    "    m = deepcopy(trigger_token_tensor)\n",
    "    m = m.unsqueeze(0)\n",
    "    n = torch.tensor([0] * len(trigger_token_tensor))\n",
    "    n = n.unsqueeze(0)\n",
    "    optimizer = torch.optim.AdamW(net.parameters())\n",
    "    for batch in tqdm(test_iter):\n",
    "        a, b, y = batch\n",
    "        a = torch.cat((a[:, :position], m.repeat_interleave(a.shape[0], dim=0), a[:, position:]), dim=1)\n",
    "        b = torch.cat((b[:, :position], n.repeat_interleave(b.shape[0], dim=0), b[:, position:]), dim=1)\n",
    "        a = a.to(device[0])\n",
    "        b = b.to(device[0])\n",
    "        y = y.to(device[0])\n",
    "        outputs = net(input_ids=a, token_type_ids=b, labels=y)\n",
    "        l = outputs.loss\n",
    "        optimizer.zero_grad()\n",
    "        l.backward()\n",
    "\n",
    "\n",
    "def process_gradient(length, num_trigger_tokens):  # Process the gradient to get the average gradient\n",
    "    extracted_grads_copy = extracted_grads\n",
    "    extracted_grads_copy[0] = extracted_grads_copy[0]\n",
    "    temp = extracted_grads_copy[0]\n",
    "    temp = temp.unsqueeze(0)\n",
    "    for i in range(1, length - 1):\n",
    "        extracted_grads_copy[i] = extracted_grads_copy[i]\n",
    "        extracted_grads_copy[i] = extracted_grads_copy[i].unsqueeze(0)\n",
    "        temp = torch.cat((temp, extracted_grads_copy[i]), dim=0)\n",
    "    average_grad = temp.mean(dim=0)[position:position + num_trigger_tokens]\n",
    "    return average_grad\n",
    "\n",
    "\n",
    "def hotflip_attack(averaged_grad, embedding_matrix,\n",
    "                   num_candidates=1, increase_loss=False):\n",
    "    averaged_grad = averaged_grad.cpu()\n",
    "    embedding_matrix = embedding_matrix.cpu()\n",
    "    averaged_grad = averaged_grad.unsqueeze(0)\n",
    "    gradient_dot_embedding_matrix = torch.einsum(\"bij,kj->bik\",\n",
    "                                                 (averaged_grad, embedding_matrix))\n",
    "    if not increase_loss:\n",
    "        gradient_dot_embedding_matrix *= -1\n",
    "        # lower versus increase the class probability.\n",
    "    if num_candidates > 1:  # get top k options\n",
    "        _, best_k_ids = torch.topk(gradient_dot_embedding_matrix, num_candidates, dim=2)\n",
    "        return best_k_ids.detach().cpu().numpy()[0]  # Return candidates\n",
    "    _, best_at_each_step = gradient_dot_embedding_matrix.max(2)\n",
    "    return best_at_each_step[0].detach().cpu().numpy()\n",
    "\n",
    "\n",
    "def collection_attack(net, test_iter, num_candidates, num_epoch, trigger='the',  # Summarize each function\n",
    "                      num_trigger_tokens=3):\n",
    "    trigger_token_tensor = init_trigger_tokens(trigger, num_trigger_tokens)\n",
    "    print(f'Concatenation location:{position}')\n",
    "    valid_acc = evaluate(net, test_iter, trigger_token_tensor)\n",
    "    print(f'Initial trigger tokens state：the accuracy {valid_acc:.5f}')\n",
    "    embedding_weight = get_embedding_weight(net)\n",
    "    for i in range(num_epoch):\n",
    "        extracted_grads.clear()\n",
    "        hook = add_hook(net)\n",
    "        get_gradient(net, test_iter, trigger_token_tensor)\n",
    "        hook.remove()\n",
    "        average_grad = process_gradient(len(test_iter), num_trigger_tokens)\n",
    "        hot_token = hotflip_attack(average_grad, embedding_weight, num_candidates, increase_loss=True)\n",
    "        hot_token_tensor = torch.from_numpy(hot_token)\n",
    "        trigger_token_tensor, valid_acc = select_best_candid(net, test_iter, hot_token_tensor, trigger_token_tensor,\n",
    "                                                             valid_acc)\n",
    "        print(f'after {i + 1} rounds of attacking\\ntriggers: {trigger_token_tensor} \\nthe accuracy :{valid_acc:.5f} ')\n",
    "    return trigger_token_tensor, valid_acc  # Return the final trigger tokens (trigger length) and the accuracy after the attack\n",
    "\n",
    "\n",
    "def get_embedding_weight(net):\n",
    "    for module in net.modules():\n",
    "        if isinstance(module, nn.Embedding):\n",
    "            weight = module.weight\n",
    "            break\n",
    "    return weight\n",
    "\n",
    "\n",
    "def select_best_candid(net, test_iter, candid_trigger, trigger_token, valid_acc):\n",
    "    # Concatenate each candidate to each input to determine the final trigger token\n",
    "    n = torch.tensor([0] * len(trigger_token))\n",
    "    n = n.unsqueeze(0)\n",
    "    trigger_token = trigger_token.unsqueeze(0)\n",
    "    net.eval()\n",
    "    valid_accs = []\n",
    "    for i in range(candid_trigger.shape[0]):\n",
    "        trigger_token_temp = deepcopy(trigger_token)\n",
    "        for j in range(candid_trigger.shape[1]):\n",
    "            trigger_token_temp[0, i] = candid_trigger[i, j]\n",
    "            valid_accs = []\n",
    "            for batch in tqdm(test_iter):\n",
    "                a, b, y = batch\n",
    "                a = torch.cat((a[:, :position], trigger_token_temp.repeat_interleave(a.shape[0], dim=0),\n",
    "                               a[:, position:]), dim=1)\n",
    "                b = torch.cat((b[:, :position], n.repeat_interleave(b.shape[0], dim=0),\n",
    "                               b[:, position:]), dim=1)\n",
    "                a = a.to(device[0])\n",
    "                b = b.to(device[0])\n",
    "                y = y.to(device[0])\n",
    "                outputs = net(input_ids=a, token_type_ids=b, labels=y)\n",
    "                acc = (outputs.logits.argmax(dim=-1) == y).float().mean()\n",
    "                valid_accs.append(acc)\n",
    "            temp = sum(valid_accs) / len(test_iter)\n",
    "            if temp < valid_acc:\n",
    "                valid_acc = temp\n",
    "                trigger_token[0, i] = candid_trigger[i, j]\n",
    "    return trigger_token[0], valid_acc  # Return the final trigger token and the accuracy after the attack"
   ]
  },
  {
   "cell_type": "code",
   "execution_count": null,
   "id": "c438eecc-31c1-439f-81ca-b2558717640a",
   "metadata": {
    "tags": []
   },
   "outputs": [
    {
     "name": "stdout",
     "output_type": "stream",
     "text": [
      "Concatenation location:1\n"
     ]
    },
    {
     "name": "stderr",
     "output_type": "stream",
     "text": [
      "100%|██████████| 1250/1250 [00:51<00:00, 24.26it/s]\n"
     ]
    },
    {
     "name": "stdout",
     "output_type": "stream",
     "text": [
      "Initial trigger tokens state：the accuracy 0.91408\n"
     ]
    },
    {
     "name": "stderr",
     "output_type": "stream",
     "text": [
      "100%|██████████| 1250/1250 [02:36<00:00,  7.97it/s]\n",
      "100%|██████████| 1250/1250 [00:51<00:00, 24.19it/s]\n",
      "100%|██████████| 1250/1250 [00:51<00:00, 24.06it/s]\n",
      "100%|██████████| 1250/1250 [00:51<00:00, 24.05it/s]\n",
      "100%|██████████| 1250/1250 [00:51<00:00, 24.04it/s]\n",
      "100%|██████████| 1250/1250 [00:51<00:00, 24.04it/s]\n"
     ]
    },
    {
     "name": "stdout",
     "output_type": "stream",
     "text": [
      "after 1 rounds of attacking\n",
      "triggers: tensor([11575]) \n",
      "the accuracy :0.90856 \n"
     ]
    },
    {
     "name": "stderr",
     "output_type": "stream",
     "text": [
      "100%|██████████| 1250/1250 [02:37<00:00,  7.93it/s]\n",
      "100%|██████████| 1250/1250 [00:51<00:00, 24.07it/s]\n",
      "100%|██████████| 1250/1250 [00:51<00:00, 24.06it/s]\n",
      "100%|██████████| 1250/1250 [00:51<00:00, 24.05it/s]\n",
      "100%|██████████| 1250/1250 [00:51<00:00, 24.05it/s]\n",
      "100%|██████████| 1250/1250 [00:52<00:00, 24.04it/s]\n"
     ]
    },
    {
     "name": "stdout",
     "output_type": "stream",
     "text": [
      "after 2 rounds of attacking\n",
      "triggers: tensor([20599]) \n",
      "the accuracy :0.90304 \n"
     ]
    },
    {
     "name": "stderr",
     "output_type": "stream",
     "text": [
      "100%|██████████| 1250/1250 [02:37<00:00,  7.94it/s]\n",
      "100%|██████████| 1250/1250 [00:51<00:00, 24.06it/s]\n",
      "100%|██████████| 1250/1250 [00:51<00:00, 24.05it/s]\n",
      "100%|██████████| 1250/1250 [00:51<00:00, 24.05it/s]\n",
      "100%|██████████| 1250/1250 [00:51<00:00, 24.04it/s]\n",
      "100%|██████████| 1250/1250 [00:52<00:00, 24.03it/s]\n"
     ]
    },
    {
     "name": "stdout",
     "output_type": "stream",
     "text": [
      "after 3 rounds of attacking\n",
      "triggers: tensor([29410]) \n",
      "the accuracy :0.89928 \n"
     ]
    },
    {
     "name": "stderr",
     "output_type": "stream",
     "text": [
      "100%|██████████| 1250/1250 [02:37<00:00,  7.94it/s]\n",
      "100%|██████████| 1250/1250 [00:51<00:00, 24.05it/s]\n",
      "100%|██████████| 1250/1250 [00:51<00:00, 24.05it/s]\n",
      "100%|██████████| 1250/1250 [00:51<00:00, 24.04it/s]\n",
      "100%|██████████| 1250/1250 [00:51<00:00, 24.05it/s]\n",
      "100%|██████████| 1250/1250 [00:52<00:00, 24.04it/s]\n"
     ]
    },
    {
     "name": "stdout",
     "output_type": "stream",
     "text": [
      "after 4 rounds of attacking\n",
      "triggers: tensor([27768]) \n",
      "the accuracy :0.88872 \n"
     ]
    },
    {
     "name": "stderr",
     "output_type": "stream",
     "text": [
      "100%|██████████| 1250/1250 [02:37<00:00,  7.93it/s]\n",
      "100%|██████████| 1250/1250 [00:51<00:00, 24.05it/s]\n",
      "100%|██████████| 1250/1250 [00:52<00:00, 24.02it/s]\n",
      "100%|██████████| 1250/1250 [00:52<00:00, 24.02it/s]\n",
      "100%|██████████| 1250/1250 [00:52<00:00, 24.01it/s]\n",
      "100%|██████████| 1250/1250 [00:52<00:00, 24.01it/s]\n"
     ]
    },
    {
     "name": "stdout",
     "output_type": "stream",
     "text": [
      "after 5 rounds of attacking\n",
      "triggers: tensor([21688]) \n",
      "the accuracy :0.82776 \n"
     ]
    },
    {
     "name": "stderr",
     "output_type": "stream",
     "text": [
      "100%|██████████| 1250/1250 [02:37<00:00,  7.92it/s]\n",
      "100%|██████████| 1250/1250 [00:52<00:00, 24.02it/s]\n",
      "100%|██████████| 1250/1250 [00:52<00:00, 24.01it/s]\n",
      "100%|██████████| 1250/1250 [00:52<00:00, 24.00it/s]\n",
      "100%|██████████| 1250/1250 [00:52<00:00, 23.97it/s]\n",
      "100%|██████████| 1250/1250 [00:52<00:00, 23.88it/s]\n"
     ]
    },
    {
     "name": "stdout",
     "output_type": "stream",
     "text": [
      "after 6 rounds of attacking\n",
      "triggers: tensor([6581]) \n",
      "the accuracy :0.81032 \n"
     ]
    },
    {
     "name": "stderr",
     "output_type": "stream",
     "text": [
      "100%|██████████| 1250/1250 [02:38<00:00,  7.90it/s]\n",
      "100%|██████████| 1250/1250 [00:52<00:00, 23.92it/s]\n",
      "100%|██████████| 1250/1250 [00:52<00:00, 23.90it/s]\n",
      "100%|██████████| 1250/1250 [00:52<00:00, 23.89it/s]\n",
      "100%|██████████| 1250/1250 [00:52<00:00, 23.87it/s]\n",
      "100%|██████████| 1250/1250 [00:52<00:00, 23.87it/s]\n"
     ]
    },
    {
     "name": "stdout",
     "output_type": "stream",
     "text": [
      "after 7 rounds of attacking\n",
      "triggers: tensor([6581]) \n",
      "the accuracy :0.81032 \n"
     ]
    },
    {
     "name": "stderr",
     "output_type": "stream",
     "text": [
      "100%|██████████| 1250/1250 [02:38<00:00,  7.90it/s]\n",
      "100%|██████████| 1250/1250 [00:52<00:00, 23.89it/s]\n",
      "100%|██████████| 1250/1250 [00:52<00:00, 23.88it/s]\n",
      "100%|██████████| 1250/1250 [00:52<00:00, 23.88it/s]\n",
      "100%|██████████| 1250/1250 [00:52<00:00, 24.01it/s]\n",
      "100%|██████████| 1250/1250 [00:52<00:00, 24.01it/s]\n"
     ]
    },
    {
     "name": "stdout",
     "output_type": "stream",
     "text": [
      "after 8 rounds of attacking\n",
      "triggers: tensor([6581]) \n",
      "the accuracy :0.81032 \n"
     ]
    },
    {
     "name": "stderr",
     "output_type": "stream",
     "text": [
      "100%|██████████| 1250/1250 [02:37<00:00,  7.93it/s]\n",
      "100%|██████████| 1250/1250 [00:51<00:00, 24.06it/s]\n",
      "100%|██████████| 1250/1250 [00:51<00:00, 24.06it/s]\n",
      "100%|██████████| 1250/1250 [00:51<00:00, 24.06it/s]\n",
      "100%|██████████| 1250/1250 [00:51<00:00, 24.06it/s]\n",
      "100%|██████████| 1250/1250 [00:51<00:00, 24.05it/s]\n"
     ]
    },
    {
     "name": "stdout",
     "output_type": "stream",
     "text": [
      "after 9 rounds of attacking\n",
      "triggers: tensor([6581]) \n",
      "the accuracy :0.81032 \n"
     ]
    },
    {
     "name": "stderr",
     "output_type": "stream",
     "text": [
      "100%|██████████| 1250/1250 [02:37<00:00,  7.94it/s]\n",
      "100%|██████████| 1250/1250 [00:51<00:00, 24.08it/s]\n",
      "100%|██████████| 1250/1250 [00:51<00:00, 24.05it/s]\n",
      "100%|██████████| 1250/1250 [00:51<00:00, 24.05it/s]\n",
      "100%|██████████| 1250/1250 [00:51<00:00, 24.04it/s]\n",
      " 43%|████▎     | 542/1250 [00:22<00:29, 24.05it/s]"
     ]
    }
   ],
   "source": [
    "collection_attack(Model, test_iter, 5, 10, trigger='the', num_trigger_tokens=1)"
   ]
  },
  {
   "cell_type": "code",
   "execution_count": null,
   "id": "1d1cd20e-896e-4cb2-bea2-25ad341810b1",
   "metadata": {},
   "outputs": [],
   "source": []
  },
  {
   "cell_type": "code",
   "execution_count": null,
   "id": "d4ae45a8-6cec-4535-90f4-fbc66789a7f8",
   "metadata": {},
   "outputs": [],
   "source": []
  },
  {
   "cell_type": "code",
   "execution_count": null,
   "id": "de226f8b-f3af-4c0b-b224-376cc8a4d741",
   "metadata": {},
   "outputs": [],
   "source": []
  }
 ],
 "metadata": {
  "kernelspec": {
   "display_name": "Python 3 (ipykernel)",
   "language": "python",
   "name": "python3"
  },
  "language_info": {
   "codemirror_mode": {
    "name": "ipython",
    "version": 3
   },
   "file_extension": ".py",
   "mimetype": "text/x-python",
   "name": "python",
   "nbconvert_exporter": "python",
   "pygments_lexer": "ipython3",
   "version": "3.8.10"
  }
 },
 "nbformat": 4,
 "nbformat_minor": 5
}
