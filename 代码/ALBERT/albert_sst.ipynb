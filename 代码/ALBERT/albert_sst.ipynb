{
 "cells": [
  {
   "cell_type": "code",
   "execution_count": 1,
   "id": "92234c07-8a9c-46bf-b292-2f3449379f94",
   "metadata": {
    "tags": []
   },
   "outputs": [
    {
     "name": "stderr",
     "output_type": "stream",
     "text": [
      "/root/miniconda3/lib/python3.8/site-packages/torch/_utils.py:776: UserWarning: TypedStorage is deprecated. It will be removed in the future and UntypedStorage will be the only storage class. This should only matter to you if you are using storages directly.  To access UntypedStorage directly, use tensor.untyped_storage() instead of tensor.storage()\n",
      "  return self.fget.__get__(instance, owner)()\n"
     ]
    }
   ],
   "source": [
    "import torch\n",
    "from torch import nn\n",
    "import os\n",
    "import random\n",
    "from torch.utils import data\n",
    "from tqdm import tqdm\n",
    "import numpy as np\n",
    "from copy import deepcopy\n",
    "import warnings\n",
    "import csv\n",
    "import re\n",
    "from transformers import AlbertTokenizer, AlbertModel\n",
    "\n",
    "\n",
    "\n",
    "global extracted_grads\n",
    "\n",
    "extracted_grads = []\n",
    "position = 1  # concatenation position\n",
    "# the concatenation position of the BERT model is after the [CLS] token\n",
    "# Random Concatenation Mode\n",
    "# position = random.randint(1,500)\n",
    "\n",
    "tokenize = AlbertTokenizer.from_pretrained(\"/root/albert\")\n",
    "Model = AlbertModel.from_pretrained(\"/root/albert\")\n",
    "\n",
    "\n",
    "# Load model related information\n",
    "\n",
    "# Print the number of Total Parameters\n",
    "# total = [param.nelement() for param in Model.parameters()]\n",
    "# print(f'total parameters:{format(sum(total))}\\n each layer parameters{total} ')\n"
   ]
  },
  {
   "cell_type": "code",
   "execution_count": 2,
   "id": "21df66a0-2f76-4aa5-8e94-8d6862ec043c",
   "metadata": {
    "tags": []
   },
   "outputs": [],
   "source": [
    "'''\n",
    "SST-2 Data\n",
    "'''\n",
    "\n",
    "\n",
    "### Load data\n",
    "\n",
    "def read_sst_data(data_dir):\n",
    "    data, labels = [], []\n",
    "    csv.register_dialect('my', delimiter='\\t', quoting=csv.QUOTE_ALL)\n",
    "    with open(data_dir) as tsvfile:\n",
    "        file_list = csv.reader(tsvfile, \"my\")\n",
    "        first = True\n",
    "        for line in file_list:\n",
    "            if first:\n",
    "                first = False\n",
    "                continue\n",
    "            data.append(line[1])\n",
    "            labels.append(int(line[0]))\n",
    "    csv.unregister_dialect('my')\n",
    "    return data, labels\n",
    "\n",
    "\n",
    "def read_sst_test_data_neg(data_dir):\n",
    "    data, labels = [], []\n",
    "    csv.register_dialect('my', delimiter='\\t', quoting=csv.QUOTE_ALL)\n",
    "    with open(data_dir) as tsvfile:\n",
    "        file_list = csv.reader(tsvfile, \"my\")\n",
    "        first = True\n",
    "        for line in file_list:\n",
    "            if first:\n",
    "                first = False\n",
    "                continue\n",
    "            if line[0] == '0':  # neg\n",
    "                data.append(line[1])\n",
    "                labels.append(int(line[0]))\n",
    "    csv.unregister_dialect('my')\n",
    "    return data, labels\n",
    "\n",
    "def read_sst_test_data_pos(data_dir):\n",
    "    data, labels = [], []\n",
    "    csv.register_dialect('my', delimiter='\\t', quoting=csv.QUOTE_ALL)\n",
    "    with open(data_dir) as tsvfile:\n",
    "        file_list = csv.reader(tsvfile, \"my\")\n",
    "        first = True\n",
    "        for line in file_list:\n",
    "            if first:\n",
    "                first = False\n",
    "                continue\n",
    "            if line[0] == '1':  # pos\n",
    "                data.append(line[1])\n",
    "                labels.append(int(line[0]))\n",
    "    csv.unregister_dialect('my')\n",
    "    return data, labels\n",
    "\n",
    "\n",
    "def load_sst_array(data_arrays, batch_size, is_train=True):\n",
    "    \"\"\"Constructs a PyTorch data iterator.\"\"\"\n",
    "    dataset = data.TensorDataset(*data_arrays)\n",
    "    return data.DataLoader(dataset, batch_size, shuffle=is_train)\n",
    "\n",
    "\n",
    "def load_sst_data_neg(batch_size, num_steps=500):\n",
    "    train_data = read_sst_data(\"/root/SST-2/train.tsv\")\n",
    "    test_data = read_sst_test_data_neg(\"/root/SST-2/test.tsv\")\n",
    "    train_encoding = tokenize(train_data[0], return_tensors=\"pt\", padding=True, truncation=True, max_length=num_steps)\n",
    "    test_encoding = tokenize(test_data[0], return_tensors=\"pt\", padding=True, truncation=True, max_length=num_steps)\n",
    "    train_iter = load_sst_array(\n",
    "        (train_encoding['input_ids'], train_encoding['token_type_ids'], torch.tensor(train_data[1])),\n",
    "        batch_size)\n",
    "    test_iter = load_sst_array(\n",
    "        (test_encoding['input_ids'], test_encoding['token_type_ids'], torch.tensor(test_data[1])),\n",
    "        1,\n",
    "        is_train=False)\n",
    "    return train_iter, test_iter\n",
    "\n",
    "\n",
    "def load_sst_data_pos(batch_size, num_steps=500):\n",
    "    train_data = read_sst_data(\"/root/SST-2/train.tsv\")\n",
    "    test_data = read_sst_test_data_pos(\"/root/SST-2/test.tsv\")\n",
    "    train_encoding = tokenize(train_data[0], return_tensors=\"pt\", padding=True, truncation=True, max_length=num_steps)\n",
    "    test_encoding = tokenize(test_data[0], return_tensors=\"pt\", padding=True, truncation=True, max_length=num_steps)\n",
    "    train_iter = load_sst_array(\n",
    "        (train_encoding['input_ids'], train_encoding['token_type_ids'], torch.tensor(train_data[1])),\n",
    "        batch_size)\n",
    "    test_iter = load_sst_array(\n",
    "        (test_encoding['input_ids'], test_encoding['token_type_ids'], torch.tensor(test_data[1])),\n",
    "        1,\n",
    "        is_train=False)\n",
    "    return train_iter, test_iter\n",
    "\n",
    "def try_all_gpus():\n",
    "    devices = [torch.device(f'cuda:{i}')\n",
    "               for i in range(torch.cuda.device_count())]\n",
    "    return devices if devices else [torch.device('cpu')]"
   ]
  },
  {
   "cell_type": "code",
   "execution_count": 3,
   "id": "9252ab6d-8a94-4934-a7cb-d54a2b5de7b5",
   "metadata": {
    "tags": []
   },
   "outputs": [
    {
     "name": "stdout",
     "output_type": "stream",
     "text": [
      "reading data finished\n",
      "\n",
      "6735\n",
      "912\n",
      "909\n"
     ]
    }
   ],
   "source": [
    "train_iter, test_iter_neg = load_sst_data_neg(10)\n",
    "train_iter, test_iter_pos = load_sst_data_pos(10)\n",
    "# Data preprocessing and loading\n",
    "print(\"reading data finished\\n\")\n",
    "print(len(train_iter))\n",
    "print(len(test_iter_neg))\n",
    "print(len(test_iter_pos))"
   ]
  },
  {
   "cell_type": "code",
   "execution_count": 6,
   "id": "cd1002f4-3ef8-4ce9-8b9b-e085a547aa0e",
   "metadata": {},
   "outputs": [
    {
     "name": "stderr",
     "output_type": "stream",
     "text": [
      "We strongly recommend passing in an `attention_mask` since your input_ids may be padded. See https://huggingface.co/docs/transformers/troubleshooting#incorrect-output-when-padding-tokens-arent-masked.\n"
     ]
    },
    {
     "name": "stdout",
     "output_type": "stream",
     "text": [
      "Epoch 1/3, Batch 100/6735, Loss: 0.6912\n",
      "Epoch 1/3, Batch 200/6735, Loss: 0.6885\n",
      "Epoch 1/3, Batch 300/6735, Loss: 0.6887\n",
      "Epoch 1/3, Batch 400/6735, Loss: 0.6751\n",
      "Epoch 1/3, Batch 500/6735, Loss: 0.6393\n",
      "Epoch 1/3, Batch 600/6735, Loss: 0.6088\n",
      "Epoch 1/3, Batch 700/6735, Loss: 0.5791\n",
      "Epoch 1/3, Batch 800/6735, Loss: 0.5560\n",
      "Epoch 1/3, Batch 900/6735, Loss: 0.5370\n",
      "Epoch 1/3, Batch 1000/6735, Loss: 0.5183\n",
      "Epoch 1/3, Batch 1100/6735, Loss: 0.5078\n",
      "Epoch 1/3, Batch 1200/6735, Loss: 0.4959\n",
      "Epoch 1/3, Batch 1300/6735, Loss: 0.4867\n",
      "Epoch 1/3, Batch 1400/6735, Loss: 0.4762\n",
      "Epoch 1/3, Batch 1500/6735, Loss: 0.4668\n",
      "Epoch 1/3, Batch 1600/6735, Loss: 0.4592\n",
      "Epoch 1/3, Batch 1700/6735, Loss: 0.4516\n",
      "Epoch 1/3, Batch 1800/6735, Loss: 0.4455\n",
      "Epoch 1/3, Batch 1900/6735, Loss: 0.4395\n",
      "Epoch 1/3, Batch 2000/6735, Loss: 0.4358\n",
      "Epoch 1/3, Batch 2100/6735, Loss: 0.4303\n",
      "Epoch 1/3, Batch 2200/6735, Loss: 0.4259\n",
      "Epoch 1/3, Batch 2300/6735, Loss: 0.4224\n",
      "Epoch 1/3, Batch 2400/6735, Loss: 0.4175\n",
      "Epoch 1/3, Batch 2500/6735, Loss: 0.4131\n",
      "Epoch 1/3, Batch 2600/6735, Loss: 0.4076\n",
      "Epoch 1/3, Batch 2700/6735, Loss: 0.4039\n",
      "Epoch 1/3, Batch 2800/6735, Loss: 0.4002\n",
      "Epoch 1/3, Batch 2900/6735, Loss: 0.3968\n",
      "Epoch 1/3, Batch 3000/6735, Loss: 0.3938\n",
      "Epoch 1/3, Batch 3100/6735, Loss: 0.3904\n",
      "Epoch 1/3, Batch 3200/6735, Loss: 0.3872\n",
      "Epoch 1/3, Batch 3300/6735, Loss: 0.3840\n",
      "Epoch 1/3, Batch 3400/6735, Loss: 0.3812\n",
      "Epoch 1/3, Batch 3500/6735, Loss: 0.3785\n",
      "Epoch 1/3, Batch 3600/6735, Loss: 0.3764\n",
      "Epoch 1/3, Batch 3700/6735, Loss: 0.3737\n",
      "Epoch 1/3, Batch 3800/6735, Loss: 0.3717\n",
      "Epoch 1/3, Batch 3900/6735, Loss: 0.3701\n",
      "Epoch 1/3, Batch 4000/6735, Loss: 0.3675\n",
      "Epoch 1/3, Batch 4100/6735, Loss: 0.3652\n",
      "Epoch 1/3, Batch 4200/6735, Loss: 0.3630\n",
      "Epoch 1/3, Batch 4300/6735, Loss: 0.3611\n",
      "Epoch 1/3, Batch 4400/6735, Loss: 0.3595\n",
      "Epoch 1/3, Batch 4500/6735, Loss: 0.3575\n",
      "Epoch 1/3, Batch 4600/6735, Loss: 0.3553\n",
      "Epoch 1/3, Batch 4700/6735, Loss: 0.3522\n",
      "Epoch 1/3, Batch 4800/6735, Loss: 0.3504\n",
      "Epoch 1/3, Batch 4900/6735, Loss: 0.3485\n",
      "Epoch 1/3, Batch 5000/6735, Loss: 0.3462\n",
      "Epoch 1/3, Batch 5100/6735, Loss: 0.3446\n",
      "Epoch 1/3, Batch 5200/6735, Loss: 0.3427\n",
      "Epoch 1/3, Batch 5300/6735, Loss: 0.3409\n",
      "Epoch 1/3, Batch 5400/6735, Loss: 0.3388\n",
      "Epoch 1/3, Batch 5500/6735, Loss: 0.3375\n",
      "Epoch 1/3, Batch 5600/6735, Loss: 0.3363\n",
      "Epoch 1/3, Batch 5700/6735, Loss: 0.3351\n",
      "Epoch 1/3, Batch 5800/6735, Loss: 0.3335\n",
      "Epoch 1/3, Batch 5900/6735, Loss: 0.3322\n",
      "Epoch 1/3, Batch 6000/6735, Loss: 0.3310\n",
      "Epoch 1/3, Batch 6100/6735, Loss: 0.3300\n",
      "Epoch 1/3, Batch 6200/6735, Loss: 0.3292\n",
      "Epoch 1/3, Batch 6300/6735, Loss: 0.3282\n",
      "Epoch 1/3, Batch 6400/6735, Loss: 0.3266\n",
      "Epoch 1/3, Batch 6500/6735, Loss: 0.3254\n",
      "Epoch 1/3, Batch 6600/6735, Loss: 0.3241\n",
      "Epoch 1/3, Batch 6700/6735, Loss: 0.3228\n",
      "Epoch 2/3, Batch 100/6735, Loss: 0.1798\n",
      "Epoch 2/3, Batch 200/6735, Loss: 0.2069\n",
      "Epoch 2/3, Batch 300/6735, Loss: 0.2031\n",
      "Epoch 2/3, Batch 400/6735, Loss: 0.2039\n",
      "Epoch 2/3, Batch 500/6735, Loss: 0.2078\n",
      "Epoch 2/3, Batch 600/6735, Loss: 0.2094\n",
      "Epoch 2/3, Batch 700/6735, Loss: 0.2062\n",
      "Epoch 2/3, Batch 800/6735, Loss: 0.2050\n",
      "Epoch 2/3, Batch 900/6735, Loss: 0.2048\n",
      "Epoch 2/3, Batch 1000/6735, Loss: 0.2032\n",
      "Epoch 2/3, Batch 1100/6735, Loss: 0.2020\n",
      "Epoch 2/3, Batch 1200/6735, Loss: 0.1999\n",
      "Epoch 2/3, Batch 1300/6735, Loss: 0.2006\n",
      "Epoch 2/3, Batch 1400/6735, Loss: 0.1986\n",
      "Epoch 2/3, Batch 1500/6735, Loss: 0.1992\n",
      "Epoch 2/3, Batch 1600/6735, Loss: 0.1992\n",
      "Epoch 2/3, Batch 1700/6735, Loss: 0.1983\n",
      "Epoch 2/3, Batch 1800/6735, Loss: 0.1980\n",
      "Epoch 2/3, Batch 1900/6735, Loss: 0.1972\n",
      "Epoch 2/3, Batch 2000/6735, Loss: 0.1967\n",
      "Epoch 2/3, Batch 2100/6735, Loss: 0.1963\n",
      "Epoch 2/3, Batch 2200/6735, Loss: 0.1961\n",
      "Epoch 2/3, Batch 2300/6735, Loss: 0.1958\n",
      "Epoch 2/3, Batch 2400/6735, Loss: 0.1965\n",
      "Epoch 2/3, Batch 2500/6735, Loss: 0.1965\n",
      "Epoch 2/3, Batch 2600/6735, Loss: 0.1965\n",
      "Epoch 2/3, Batch 2700/6735, Loss: 0.1961\n",
      "Epoch 2/3, Batch 2800/6735, Loss: 0.1959\n",
      "Epoch 2/3, Batch 2900/6735, Loss: 0.1948\n",
      "Epoch 2/3, Batch 3000/6735, Loss: 0.1938\n",
      "Epoch 2/3, Batch 3100/6735, Loss: 0.1933\n",
      "Epoch 2/3, Batch 3200/6735, Loss: 0.1930\n",
      "Epoch 2/3, Batch 3300/6735, Loss: 0.1933\n",
      "Epoch 2/3, Batch 3400/6735, Loss: 0.1934\n",
      "Epoch 2/3, Batch 3500/6735, Loss: 0.1934\n",
      "Epoch 2/3, Batch 3600/6735, Loss: 0.1924\n",
      "Epoch 2/3, Batch 3700/6735, Loss: 0.1924\n",
      "Epoch 2/3, Batch 3800/6735, Loss: 0.1924\n",
      "Epoch 2/3, Batch 3900/6735, Loss: 0.1919\n",
      "Epoch 2/3, Batch 4000/6735, Loss: 0.1909\n",
      "Epoch 2/3, Batch 4100/6735, Loss: 0.1906\n",
      "Epoch 2/3, Batch 4200/6735, Loss: 0.1903\n",
      "Epoch 2/3, Batch 4300/6735, Loss: 0.1902\n",
      "Epoch 2/3, Batch 4400/6735, Loss: 0.1902\n",
      "Epoch 2/3, Batch 4500/6735, Loss: 0.1897\n",
      "Epoch 2/3, Batch 4600/6735, Loss: 0.1899\n",
      "Epoch 2/3, Batch 4700/6735, Loss: 0.1891\n",
      "Epoch 2/3, Batch 4800/6735, Loss: 0.1883\n",
      "Epoch 2/3, Batch 4900/6735, Loss: 0.1876\n",
      "Epoch 2/3, Batch 5000/6735, Loss: 0.1872\n",
      "Epoch 2/3, Batch 5100/6735, Loss: 0.1873\n",
      "Epoch 2/3, Batch 5200/6735, Loss: 0.1872\n",
      "Epoch 2/3, Batch 5300/6735, Loss: 0.1873\n",
      "Epoch 2/3, Batch 5400/6735, Loss: 0.1870\n",
      "Epoch 2/3, Batch 5500/6735, Loss: 0.1871\n",
      "Epoch 2/3, Batch 5600/6735, Loss: 0.1870\n",
      "Epoch 2/3, Batch 5700/6735, Loss: 0.1867\n",
      "Epoch 2/3, Batch 5800/6735, Loss: 0.1867\n",
      "Epoch 2/3, Batch 5900/6735, Loss: 0.1869\n",
      "Epoch 2/3, Batch 6000/6735, Loss: 0.1865\n",
      "Epoch 2/3, Batch 6100/6735, Loss: 0.1866\n",
      "Epoch 2/3, Batch 6200/6735, Loss: 0.1866\n",
      "Epoch 2/3, Batch 6300/6735, Loss: 0.1866\n",
      "Epoch 2/3, Batch 6400/6735, Loss: 0.1861\n",
      "Epoch 2/3, Batch 6500/6735, Loss: 0.1860\n",
      "Epoch 2/3, Batch 6600/6735, Loss: 0.1858\n",
      "Epoch 2/3, Batch 6700/6735, Loss: 0.1856\n",
      "Epoch 3/3, Batch 100/6735, Loss: 0.1282\n",
      "Epoch 3/3, Batch 200/6735, Loss: 0.1302\n",
      "Epoch 3/3, Batch 300/6735, Loss: 0.1261\n",
      "Epoch 3/3, Batch 400/6735, Loss: 0.1320\n",
      "Epoch 3/3, Batch 500/6735, Loss: 0.1278\n",
      "Epoch 3/3, Batch 600/6735, Loss: 0.1273\n",
      "Epoch 3/3, Batch 700/6735, Loss: 0.1230\n",
      "Epoch 3/3, Batch 800/6735, Loss: 0.1237\n",
      "Epoch 3/3, Batch 900/6735, Loss: 0.1215\n",
      "Epoch 3/3, Batch 1000/6735, Loss: 0.1218\n",
      "Epoch 3/3, Batch 1100/6735, Loss: 0.1241\n",
      "Epoch 3/3, Batch 1200/6735, Loss: 0.1251\n",
      "Epoch 3/3, Batch 1300/6735, Loss: 0.1251\n",
      "Epoch 3/3, Batch 1400/6735, Loss: 0.1258\n",
      "Epoch 3/3, Batch 1500/6735, Loss: 0.1255\n",
      "Epoch 3/3, Batch 1600/6735, Loss: 0.1279\n",
      "Epoch 3/3, Batch 1700/6735, Loss: 0.1268\n",
      "Epoch 3/3, Batch 1800/6735, Loss: 0.1271\n",
      "Epoch 3/3, Batch 1900/6735, Loss: 0.1278\n",
      "Epoch 3/3, Batch 2000/6735, Loss: 0.1282\n",
      "Epoch 3/3, Batch 2100/6735, Loss: 0.1288\n",
      "Epoch 3/3, Batch 2200/6735, Loss: 0.1287\n",
      "Epoch 3/3, Batch 2300/6735, Loss: 0.1278\n",
      "Epoch 3/3, Batch 2400/6735, Loss: 0.1282\n",
      "Epoch 3/3, Batch 2500/6735, Loss: 0.1280\n",
      "Epoch 3/3, Batch 2600/6735, Loss: 0.1290\n",
      "Epoch 3/3, Batch 2700/6735, Loss: 0.1287\n",
      "Epoch 3/3, Batch 2800/6735, Loss: 0.1299\n",
      "Epoch 3/3, Batch 2900/6735, Loss: 0.1295\n",
      "Epoch 3/3, Batch 3000/6735, Loss: 0.1300\n",
      "Epoch 3/3, Batch 3100/6735, Loss: 0.1301\n",
      "Epoch 3/3, Batch 3200/6735, Loss: 0.1295\n",
      "Epoch 3/3, Batch 3300/6735, Loss: 0.1296\n",
      "Epoch 3/3, Batch 3400/6735, Loss: 0.1299\n",
      "Epoch 3/3, Batch 3500/6735, Loss: 0.1299\n",
      "Epoch 3/3, Batch 3600/6735, Loss: 0.1301\n",
      "Epoch 3/3, Batch 3700/6735, Loss: 0.1304\n",
      "Epoch 3/3, Batch 3800/6735, Loss: 0.1302\n",
      "Epoch 3/3, Batch 3900/6735, Loss: 0.1300\n",
      "Epoch 3/3, Batch 4000/6735, Loss: 0.1297\n",
      "Epoch 3/3, Batch 4100/6735, Loss: 0.1299\n",
      "Epoch 3/3, Batch 4200/6735, Loss: 0.1298\n",
      "Epoch 3/3, Batch 4300/6735, Loss: 0.1305\n",
      "Epoch 3/3, Batch 4400/6735, Loss: 0.1301\n",
      "Epoch 3/3, Batch 4500/6735, Loss: 0.1302\n",
      "Epoch 3/3, Batch 4600/6735, Loss: 0.1298\n",
      "Epoch 3/3, Batch 4700/6735, Loss: 0.1298\n",
      "Epoch 3/3, Batch 4800/6735, Loss: 0.1297\n",
      "Epoch 3/3, Batch 4900/6735, Loss: 0.1299\n",
      "Epoch 3/3, Batch 5000/6735, Loss: 0.1302\n",
      "Epoch 3/3, Batch 5100/6735, Loss: 0.1300\n",
      "Epoch 3/3, Batch 5200/6735, Loss: 0.1303\n",
      "Epoch 3/3, Batch 5300/6735, Loss: 0.1304\n",
      "Epoch 3/3, Batch 5400/6735, Loss: 0.1300\n",
      "Epoch 3/3, Batch 5500/6735, Loss: 0.1301\n",
      "Epoch 3/3, Batch 5600/6735, Loss: 0.1299\n",
      "Epoch 3/3, Batch 5700/6735, Loss: 0.1299\n",
      "Epoch 3/3, Batch 5800/6735, Loss: 0.1296\n",
      "Epoch 3/3, Batch 5900/6735, Loss: 0.1295\n",
      "Epoch 3/3, Batch 6000/6735, Loss: 0.1296\n",
      "Epoch 3/3, Batch 6100/6735, Loss: 0.1297\n",
      "Epoch 3/3, Batch 6200/6735, Loss: 0.1298\n",
      "Epoch 3/3, Batch 6300/6735, Loss: 0.1292\n",
      "Epoch 3/3, Batch 6400/6735, Loss: 0.1295\n",
      "Epoch 3/3, Batch 6500/6735, Loss: 0.1296\n",
      "Epoch 3/3, Batch 6600/6735, Loss: 0.1296\n",
      "Epoch 3/3, Batch 6700/6735, Loss: 0.1296\n",
      "Training finished.\n"
     ]
    }
   ],
   "source": [
    "# Define the model architecture\n",
    "class AlbertSentimentClassifier(nn.Module):\n",
    "    def __init__(self, albert_model):\n",
    "        super(AlbertSentimentClassifier, self).__init__()\n",
    "        self.albert = albert_model\n",
    "        self.dropout = nn.Dropout(0.1)\n",
    "        self.fc = nn.Linear(self.albert.config.hidden_size, 2)  # Binary classification: positive or negative\n",
    "\n",
    "    def forward(self, input_ids, token_type_ids):\n",
    "        outputs = self.albert(input_ids=input_ids, token_type_ids=token_type_ids)\n",
    "        pooled_output = outputs[1]  # Take the [CLS] token output\n",
    "        pooled_output = self.dropout(pooled_output)\n",
    "        logits = self.fc(pooled_output)\n",
    "        return logits\n",
    "\n",
    "# Instantiate the model\n",
    "model = AlbertSentimentClassifier(Model)\n",
    "\n",
    "# Define loss function and optimizer\n",
    "criterion = nn.CrossEntropyLoss()\n",
    "optimizer = torch.optim.AdamW(model.parameters(), lr=5e-6)\n",
    "\n",
    "# Training loop\n",
    "device = torch.device(\"cuda\" if torch.cuda.is_available() else \"cpu\")\n",
    "model.to(device)\n",
    "model.train()\n",
    "\n",
    "num_epochs = 3  # Example, you can adjust this\n",
    "for epoch in range(num_epochs):\n",
    "    total_loss = 0\n",
    "    for batch_idx, (input_ids, token_type_ids, labels) in enumerate(train_iter):\n",
    "        input_ids, token_type_ids, labels = input_ids.to(device), token_type_ids.to(device), labels.to(device)\n",
    "        \n",
    "        optimizer.zero_grad()\n",
    "        \n",
    "        logits = model(input_ids, token_type_ids)\n",
    "        loss = criterion(logits, labels)\n",
    "        \n",
    "        loss.backward()\n",
    "        optimizer.step()\n",
    "        \n",
    "        total_loss += loss.item()\n",
    "        \n",
    "        if (batch_idx + 1) % 100 == 0:\n",
    "            print(f\"Epoch {epoch+1}/{num_epochs}, Batch {batch_idx+1}/{len(train_iter)}, Loss: {total_loss / (batch_idx+1):.4f}\")\n",
    "\n",
    "print(\"Training finished.\")\n"
   ]
  },
  {
   "cell_type": "code",
   "execution_count": 9,
   "id": "bcb1f4a3-15a6-4297-90b4-442e98beee70",
   "metadata": {},
   "outputs": [],
   "source": [
    "torch.save(model, 'albert_SST.bin')"
   ]
  },
  {
   "cell_type": "code",
   "execution_count": 10,
   "id": "8aae1a34-c812-4e9d-89d4-1fcd74966843",
   "metadata": {},
   "outputs": [
    {
     "name": "stdout",
     "output_type": "stream",
     "text": [
      "Accuracy on test set: 0.8515\n",
      "Accuracy on test set: 0.9156\n"
     ]
    }
   ],
   "source": [
    "def evaluate_model(model, test_iter):\n",
    "    model.eval()\n",
    "    device = next(model.parameters()).device\n",
    "\n",
    "    total_correct = 0\n",
    "    total_samples = 0\n",
    "\n",
    "    with torch.no_grad():\n",
    "        for input_ids, token_type_ids, labels in test_iter:\n",
    "            input_ids, token_type_ids, labels = input_ids.to(device), token_type_ids.to(device), labels.to(device)\n",
    "\n",
    "            logits = model(input_ids, token_type_ids)\n",
    "            _, predictions = torch.max(logits, 1)\n",
    "\n",
    "            total_correct += (predictions == labels).sum().item()\n",
    "            total_samples += labels.size(0)\n",
    "\n",
    "    accuracy = total_correct / total_samples\n",
    "    print(f\"Accuracy on test set: {accuracy:.4f}\")\n",
    "\n",
    "# Evaluate the model\n",
    "evaluate_model(model, test_iter_pos)\n",
    "evaluate_model(model, test_iter_neg)"
   ]
  },
  {
   "cell_type": "code",
   "execution_count": 5,
   "id": "661039eb-247b-47c6-875f-f39a8153d02a",
   "metadata": {
    "tags": []
   },
   "outputs": [],
   "source": [
    "# Define the model architecture\n",
    "class AlbertSentimentClassifier(nn.Module):\n",
    "    def __init__(self, albert_model):\n",
    "        super(AlbertSentimentClassifier, self).__init__()\n",
    "        self.albert = albert_model\n",
    "        self.dropout = nn.Dropout(0.1)\n",
    "        self.fc = nn.Linear(self.albert.config.hidden_size, 2)  # Binary classification: positive or negative\n",
    "\n",
    "    def forward(self, input_ids, token_type_ids):\n",
    "        outputs = self.albert(input_ids=input_ids, token_type_ids=token_type_ids)\n",
    "        pooled_output = outputs[1]  # Take the [CLS] token output\n",
    "        pooled_output = self.dropout(pooled_output)\n",
    "        logits = self.fc(pooled_output)\n",
    "        return logits\n",
    "\n",
    "device = try_all_gpus()\n",
    "Model = torch.load('albert_SST.bin')"
   ]
  },
  {
   "cell_type": "code",
   "execution_count": 6,
   "id": "3c7e7501-9d16-4d55-9646-2b261f0a5b27",
   "metadata": {
    "tags": []
   },
   "outputs": [
    {
     "name": "stdout",
     "output_type": "stream",
     "text": [
      "Concatenation location:1\n"
     ]
    },
    {
     "name": "stderr",
     "output_type": "stream",
     "text": [
      "  0%|          | 0/909 [00:00<?, ?it/s]We strongly recommend passing in an `attention_mask` since your input_ids may be padded. See https://huggingface.co/docs/transformers/troubleshooting#incorrect-output-when-padding-tokens-arent-masked.\n",
      "100%|██████████| 909/909 [00:06<00:00, 144.62it/s]\n"
     ]
    },
    {
     "name": "stdout",
     "output_type": "stream",
     "text": [
      "Initial trigger tokens state：the accuracy 0.85149\n"
     ]
    },
    {
     "name": "stderr",
     "output_type": "stream",
     "text": [
      "  0%|          | 0/909 [00:00<?, ?it/s]/root/miniconda3/lib/python3.8/site-packages/torch/nn/modules/module.py:1344: UserWarning: Using a non-full backward hook when the forward contains multiple autograd Nodes is deprecated and will be removed in future versions. This hook will be missing some grad_input. Please use register_full_backward_hook to get the documented behavior.\n",
      "  warnings.warn(\"Using a non-full backward hook when the forward contains multiple autograd Nodes \"\n",
      "100%|██████████| 909/909 [00:18<00:00, 48.40it/s]\n",
      "100%|██████████| 909/909 [00:07<00:00, 113.76it/s]\n",
      "100%|██████████| 909/909 [00:07<00:00, 127.65it/s]\n",
      "100%|██████████| 909/909 [00:07<00:00, 125.85it/s]\n",
      "100%|██████████| 909/909 [00:07<00:00, 129.78it/s]\n",
      "100%|██████████| 909/909 [00:06<00:00, 133.41it/s]\n"
     ]
    },
    {
     "name": "stdout",
     "output_type": "stream",
     "text": [
      "after 1 rounds of attacking\n",
      "triggers: tensor([5663]) \n",
      "the accuracy :0.79538 \n"
     ]
    },
    {
     "name": "stderr",
     "output_type": "stream",
     "text": [
      "100%|██████████| 909/909 [00:18<00:00, 50.02it/s]\n",
      "100%|██████████| 909/909 [00:06<00:00, 130.24it/s]\n",
      "100%|██████████| 909/909 [00:06<00:00, 130.42it/s]\n",
      "100%|██████████| 909/909 [00:06<00:00, 134.70it/s]\n",
      "100%|██████████| 909/909 [00:06<00:00, 131.36it/s]\n",
      "100%|██████████| 909/909 [00:07<00:00, 128.89it/s]\n"
     ]
    },
    {
     "name": "stdout",
     "output_type": "stream",
     "text": [
      "after 2 rounds of attacking\n",
      "triggers: tensor([20380]) \n",
      "the accuracy :0.52255 \n"
     ]
    },
    {
     "name": "stderr",
     "output_type": "stream",
     "text": [
      "100%|██████████| 909/909 [00:19<00:00, 47.37it/s]\n",
      "100%|██████████| 909/909 [00:07<00:00, 123.25it/s]\n",
      "100%|██████████| 909/909 [00:06<00:00, 133.87it/s]\n",
      "100%|██████████| 909/909 [00:07<00:00, 119.91it/s]\n",
      "100%|██████████| 909/909 [00:06<00:00, 130.88it/s]\n",
      "100%|██████████| 909/909 [00:06<00:00, 132.14it/s]\n"
     ]
    },
    {
     "name": "stdout",
     "output_type": "stream",
     "text": [
      "after 3 rounds of attacking\n",
      "triggers: tensor([20380]) \n",
      "the accuracy :0.52255 \n"
     ]
    },
    {
     "name": "stderr",
     "output_type": "stream",
     "text": [
      "100%|██████████| 909/909 [00:17<00:00, 52.99it/s]\n",
      "100%|██████████| 909/909 [00:07<00:00, 122.47it/s]\n",
      "100%|██████████| 909/909 [00:06<00:00, 133.50it/s]\n",
      "100%|██████████| 909/909 [00:07<00:00, 129.61it/s]\n",
      "100%|██████████| 909/909 [00:07<00:00, 126.23it/s]\n",
      "100%|██████████| 909/909 [00:06<00:00, 131.83it/s]\n"
     ]
    },
    {
     "name": "stdout",
     "output_type": "stream",
     "text": [
      "after 4 rounds of attacking\n",
      "triggers: tensor([20380]) \n",
      "the accuracy :0.52255 \n"
     ]
    },
    {
     "name": "stderr",
     "output_type": "stream",
     "text": [
      "100%|██████████| 909/909 [00:19<00:00, 46.53it/s]\n",
      "100%|██████████| 909/909 [00:07<00:00, 121.12it/s]\n",
      "100%|██████████| 909/909 [00:06<00:00, 131.80it/s]\n",
      "100%|██████████| 909/909 [00:06<00:00, 132.23it/s]\n",
      "100%|██████████| 909/909 [00:06<00:00, 130.89it/s]\n",
      "100%|██████████| 909/909 [00:06<00:00, 133.39it/s]\n"
     ]
    },
    {
     "name": "stdout",
     "output_type": "stream",
     "text": [
      "after 5 rounds of attacking\n",
      "triggers: tensor([20380]) \n",
      "the accuracy :0.52255 \n",
      "Concatenation location:1\n"
     ]
    },
    {
     "name": "stderr",
     "output_type": "stream",
     "text": [
      "100%|██████████| 909/909 [00:05<00:00, 154.12it/s]\n"
     ]
    },
    {
     "name": "stdout",
     "output_type": "stream",
     "text": [
      "Initial trigger tokens state：the accuracy 0.84598\n"
     ]
    },
    {
     "name": "stderr",
     "output_type": "stream",
     "text": [
      "100%|██████████| 909/909 [00:20<00:00, 45.11it/s]\n",
      "100%|██████████| 909/909 [00:07<00:00, 123.15it/s]\n",
      "100%|██████████| 909/909 [00:06<00:00, 131.99it/s]\n",
      "100%|██████████| 909/909 [00:07<00:00, 127.28it/s]\n",
      "100%|██████████| 909/909 [00:06<00:00, 134.29it/s]\n",
      "100%|██████████| 909/909 [00:07<00:00, 115.53it/s]\n",
      "100%|██████████| 909/909 [00:07<00:00, 125.89it/s]\n",
      "100%|██████████| 909/909 [00:06<00:00, 133.28it/s]\n",
      "100%|██████████| 909/909 [00:06<00:00, 133.86it/s]\n",
      "100%|██████████| 909/909 [00:07<00:00, 123.13it/s]\n",
      "100%|██████████| 909/909 [00:07<00:00, 129.04it/s]\n"
     ]
    },
    {
     "name": "stdout",
     "output_type": "stream",
     "text": [
      "after 1 rounds of attacking\n",
      "triggers: tensor([ 5663, 26544]) \n",
      "the accuracy :0.77778 \n"
     ]
    },
    {
     "name": "stderr",
     "output_type": "stream",
     "text": [
      "100%|██████████| 909/909 [00:18<00:00, 47.88it/s]\n",
      "100%|██████████| 909/909 [00:07<00:00, 122.31it/s]\n",
      "100%|██████████| 909/909 [00:07<00:00, 129.37it/s]\n",
      "100%|██████████| 909/909 [00:06<00:00, 131.09it/s]\n",
      "100%|██████████| 909/909 [00:06<00:00, 131.95it/s]\n",
      "100%|██████████| 909/909 [00:07<00:00, 120.76it/s]\n",
      "100%|██████████| 909/909 [00:06<00:00, 133.54it/s]\n",
      "100%|██████████| 909/909 [00:06<00:00, 132.56it/s]\n",
      "100%|██████████| 909/909 [00:07<00:00, 122.14it/s]\n",
      "100%|██████████| 909/909 [00:06<00:00, 133.41it/s]\n",
      "100%|██████████| 909/909 [00:06<00:00, 132.23it/s]\n"
     ]
    },
    {
     "name": "stdout",
     "output_type": "stream",
     "text": [
      "after 2 rounds of attacking\n",
      "triggers: tensor([27693, 22870]) \n",
      "the accuracy :0.31243 \n"
     ]
    },
    {
     "name": "stderr",
     "output_type": "stream",
     "text": [
      "100%|██████████| 909/909 [00:17<00:00, 52.97it/s]\n",
      "100%|██████████| 909/909 [00:07<00:00, 120.93it/s]\n",
      "100%|██████████| 909/909 [00:06<00:00, 131.27it/s]\n",
      "100%|██████████| 909/909 [00:07<00:00, 123.37it/s]\n",
      "100%|██████████| 909/909 [00:06<00:00, 133.13it/s]\n",
      "100%|██████████| 909/909 [00:07<00:00, 127.82it/s]\n",
      "100%|██████████| 909/909 [00:06<00:00, 134.99it/s]\n",
      "100%|██████████| 909/909 [00:06<00:00, 134.42it/s]\n",
      "100%|██████████| 909/909 [00:07<00:00, 127.26it/s]\n",
      "100%|██████████| 909/909 [00:06<00:00, 131.51it/s]\n",
      "100%|██████████| 909/909 [00:07<00:00, 116.00it/s]\n"
     ]
    },
    {
     "name": "stdout",
     "output_type": "stream",
     "text": [
      "after 3 rounds of attacking\n",
      "triggers: tensor([ 5922, 22870]) \n",
      "the accuracy :0.20462 \n"
     ]
    },
    {
     "name": "stderr",
     "output_type": "stream",
     "text": [
      "100%|██████████| 909/909 [00:19<00:00, 46.55it/s]\n",
      "100%|██████████| 909/909 [00:07<00:00, 129.75it/s]\n",
      "100%|██████████| 909/909 [00:06<00:00, 132.01it/s]\n",
      "100%|██████████| 909/909 [00:06<00:00, 132.07it/s]\n",
      "100%|██████████| 909/909 [00:06<00:00, 132.40it/s]\n",
      "100%|██████████| 909/909 [00:06<00:00, 131.91it/s]\n",
      "100%|██████████| 909/909 [00:06<00:00, 131.01it/s]\n",
      "100%|██████████| 909/909 [00:06<00:00, 131.26it/s]\n",
      "100%|██████████| 909/909 [00:07<00:00, 124.49it/s]\n",
      "100%|██████████| 909/909 [00:06<00:00, 132.58it/s]\n",
      "100%|██████████| 909/909 [00:07<00:00, 122.51it/s]\n"
     ]
    },
    {
     "name": "stdout",
     "output_type": "stream",
     "text": [
      "after 4 rounds of attacking\n",
      "triggers: tensor([ 5922, 22870]) \n",
      "the accuracy :0.20462 \n"
     ]
    },
    {
     "name": "stderr",
     "output_type": "stream",
     "text": [
      "100%|██████████| 909/909 [00:18<00:00, 48.35it/s]\n",
      "100%|██████████| 909/909 [00:07<00:00, 120.29it/s]\n",
      "100%|██████████| 909/909 [00:07<00:00, 119.99it/s]\n",
      "100%|██████████| 909/909 [00:06<00:00, 134.36it/s]\n",
      "100%|██████████| 909/909 [00:06<00:00, 132.16it/s]\n",
      "100%|██████████| 909/909 [00:06<00:00, 133.89it/s]\n",
      "100%|██████████| 909/909 [00:06<00:00, 132.94it/s]\n",
      "100%|██████████| 909/909 [00:07<00:00, 124.77it/s]\n",
      "100%|██████████| 909/909 [00:06<00:00, 132.79it/s]\n",
      "100%|██████████| 909/909 [00:07<00:00, 116.25it/s]\n",
      "100%|██████████| 909/909 [00:07<00:00, 120.09it/s]\n"
     ]
    },
    {
     "name": "stdout",
     "output_type": "stream",
     "text": [
      "after 5 rounds of attacking\n",
      "triggers: tensor([ 5922, 22870]) \n",
      "the accuracy :0.20462 \n",
      "Concatenation location:1\n"
     ]
    },
    {
     "name": "stderr",
     "output_type": "stream",
     "text": [
      "100%|██████████| 909/909 [00:05<00:00, 155.67it/s]\n"
     ]
    },
    {
     "name": "stdout",
     "output_type": "stream",
     "text": [
      "Initial trigger tokens state：the accuracy 0.85039\n"
     ]
    },
    {
     "name": "stderr",
     "output_type": "stream",
     "text": [
      "100%|██████████| 909/909 [00:19<00:00, 47.74it/s]\n",
      "100%|██████████| 909/909 [00:06<00:00, 133.65it/s]\n",
      "100%|██████████| 909/909 [00:07<00:00, 123.61it/s]\n",
      "100%|██████████| 909/909 [00:07<00:00, 129.22it/s]\n",
      "100%|██████████| 909/909 [00:06<00:00, 132.72it/s]\n",
      "100%|██████████| 909/909 [00:07<00:00, 118.07it/s]\n",
      "100%|██████████| 909/909 [00:06<00:00, 133.62it/s]\n",
      "100%|██████████| 909/909 [00:06<00:00, 132.28it/s]\n",
      "100%|██████████| 909/909 [00:06<00:00, 133.24it/s]\n",
      "100%|██████████| 909/909 [00:06<00:00, 132.18it/s]\n",
      "100%|██████████| 909/909 [00:07<00:00, 117.33it/s]\n",
      "100%|██████████| 909/909 [00:06<00:00, 131.34it/s]\n",
      "100%|██████████| 909/909 [00:06<00:00, 131.21it/s]\n",
      "100%|██████████| 909/909 [00:07<00:00, 128.78it/s]\n",
      "100%|██████████| 909/909 [00:06<00:00, 132.12it/s]\n",
      "100%|██████████| 909/909 [00:06<00:00, 131.08it/s]\n"
     ]
    },
    {
     "name": "stdout",
     "output_type": "stream",
     "text": [
      "after 1 rounds of attacking\n",
      "triggers: tensor([15039, 20330,  5663]) \n",
      "the accuracy :0.63366 \n"
     ]
    },
    {
     "name": "stderr",
     "output_type": "stream",
     "text": [
      "100%|██████████| 909/909 [00:19<00:00, 45.81it/s]\n",
      "100%|██████████| 909/909 [00:07<00:00, 116.29it/s]\n",
      "100%|██████████| 909/909 [00:06<00:00, 132.30it/s]\n",
      "100%|██████████| 909/909 [00:06<00:00, 131.93it/s]\n",
      "100%|██████████| 909/909 [00:07<00:00, 126.95it/s]\n",
      "100%|██████████| 909/909 [00:07<00:00, 129.30it/s]\n",
      "100%|██████████| 909/909 [00:06<00:00, 134.41it/s]\n",
      "100%|██████████| 909/909 [00:07<00:00, 123.86it/s]\n",
      "100%|██████████| 909/909 [00:07<00:00, 123.94it/s]\n",
      "100%|██████████| 909/909 [00:06<00:00, 133.56it/s]\n",
      "100%|██████████| 909/909 [00:07<00:00, 127.48it/s]\n",
      "100%|██████████| 909/909 [00:06<00:00, 130.30it/s]\n",
      "100%|██████████| 909/909 [00:07<00:00, 124.24it/s]\n",
      "100%|██████████| 909/909 [00:07<00:00, 124.36it/s]\n",
      "100%|██████████| 909/909 [00:07<00:00, 128.10it/s]\n",
      "100%|██████████| 909/909 [00:06<00:00, 133.68it/s]\n"
     ]
    },
    {
     "name": "stdout",
     "output_type": "stream",
     "text": [
      "after 2 rounds of attacking\n",
      "triggers: tensor([ 5643,  3625, 27693]) \n",
      "the accuracy :0.09351 \n"
     ]
    },
    {
     "name": "stderr",
     "output_type": "stream",
     "text": [
      "100%|██████████| 909/909 [00:18<00:00, 49.12it/s]\n",
      "100%|██████████| 909/909 [00:07<00:00, 125.53it/s]\n",
      "100%|██████████| 909/909 [00:06<00:00, 130.96it/s]\n",
      "100%|██████████| 909/909 [00:06<00:00, 134.09it/s]\n",
      "100%|██████████| 909/909 [00:06<00:00, 131.78it/s]\n",
      "100%|██████████| 909/909 [00:07<00:00, 124.17it/s]\n",
      "100%|██████████| 909/909 [00:06<00:00, 133.91it/s]\n",
      "100%|██████████| 909/909 [00:06<00:00, 133.55it/s]\n",
      "100%|██████████| 909/909 [00:06<00:00, 132.20it/s]\n",
      "100%|██████████| 909/909 [00:06<00:00, 132.53it/s]\n",
      "100%|██████████| 909/909 [00:06<00:00, 134.50it/s]\n",
      "100%|██████████| 909/909 [00:06<00:00, 132.33it/s]\n",
      "100%|██████████| 909/909 [00:06<00:00, 132.14it/s]\n",
      "100%|██████████| 909/909 [00:06<00:00, 130.79it/s]\n",
      "100%|██████████| 909/909 [00:06<00:00, 130.03it/s]\n",
      "100%|██████████| 909/909 [00:07<00:00, 122.04it/s]\n"
     ]
    },
    {
     "name": "stdout",
     "output_type": "stream",
     "text": [
      "after 3 rounds of attacking\n",
      "triggers: tensor([ 5643,  3625, 27693]) \n",
      "the accuracy :0.09351 \n"
     ]
    },
    {
     "name": "stderr",
     "output_type": "stream",
     "text": [
      "100%|██████████| 909/909 [00:18<00:00, 48.52it/s]\n",
      "100%|██████████| 909/909 [00:07<00:00, 121.35it/s]\n",
      "100%|██████████| 909/909 [00:07<00:00, 126.43it/s]\n",
      "100%|██████████| 909/909 [00:07<00:00, 121.14it/s]\n",
      "100%|██████████| 909/909 [00:06<00:00, 132.10it/s]\n",
      "100%|██████████| 909/909 [00:06<00:00, 131.52it/s]\n",
      "100%|██████████| 909/909 [00:06<00:00, 131.66it/s]\n",
      "100%|██████████| 909/909 [00:06<00:00, 134.38it/s]\n",
      "100%|██████████| 909/909 [00:06<00:00, 130.96it/s]\n",
      "100%|██████████| 909/909 [00:06<00:00, 131.87it/s]\n",
      "100%|██████████| 909/909 [00:07<00:00, 128.57it/s]\n",
      "100%|██████████| 909/909 [00:07<00:00, 124.37it/s]\n",
      "100%|██████████| 909/909 [00:07<00:00, 128.92it/s]\n",
      "100%|██████████| 909/909 [00:07<00:00, 129.73it/s]\n",
      "100%|██████████| 909/909 [00:06<00:00, 133.59it/s]\n",
      "100%|██████████| 909/909 [00:07<00:00, 127.50it/s]\n"
     ]
    },
    {
     "name": "stdout",
     "output_type": "stream",
     "text": [
      "after 4 rounds of attacking\n",
      "triggers: tensor([ 5643,  3625, 27693]) \n",
      "the accuracy :0.09351 \n"
     ]
    },
    {
     "name": "stderr",
     "output_type": "stream",
     "text": [
      "100%|██████████| 909/909 [00:19<00:00, 47.55it/s]\n",
      "100%|██████████| 909/909 [00:07<00:00, 125.17it/s]\n",
      "100%|██████████| 909/909 [00:07<00:00, 124.26it/s]\n",
      "100%|██████████| 909/909 [00:07<00:00, 121.72it/s]\n",
      "100%|██████████| 909/909 [00:07<00:00, 121.66it/s]\n",
      "100%|██████████| 909/909 [00:07<00:00, 128.44it/s]\n",
      "100%|██████████| 909/909 [00:07<00:00, 128.37it/s]\n",
      "100%|██████████| 909/909 [00:07<00:00, 125.88it/s]\n",
      "100%|██████████| 909/909 [00:07<00:00, 129.68it/s]\n",
      "100%|██████████| 909/909 [00:07<00:00, 127.25it/s]\n",
      "100%|██████████| 909/909 [00:06<00:00, 131.53it/s]\n",
      "100%|██████████| 909/909 [00:06<00:00, 132.35it/s]\n",
      "100%|██████████| 909/909 [00:06<00:00, 129.86it/s]\n",
      "100%|██████████| 909/909 [00:06<00:00, 135.23it/s]\n",
      "100%|██████████| 909/909 [00:07<00:00, 129.34it/s]\n",
      "100%|██████████| 909/909 [00:06<00:00, 131.01it/s]"
     ]
    },
    {
     "name": "stdout",
     "output_type": "stream",
     "text": [
      "after 5 rounds of attacking\n",
      "triggers: tensor([ 5643,  3625, 27693]) \n",
      "the accuracy :0.09351 \n"
     ]
    },
    {
     "name": "stderr",
     "output_type": "stream",
     "text": [
      "\n"
     ]
    },
    {
     "data": {
      "text/plain": [
       "(tensor([ 5643,  3625, 27693]), tensor(0.0935, device='cuda:0'))"
      ]
     },
     "execution_count": 6,
     "metadata": {},
     "output_type": "execute_result"
    }
   ],
   "source": [
    "criterion = nn.CrossEntropyLoss()\n",
    "### Trigger Token\n",
    "\n",
    "def init_trigger_tokens(trigger, num_trigger_tokens):\n",
    "    # Initialize trigger tokens, we use 'the' as initial trigger token\n",
    "    trigger_token_ids = [0] * num_trigger_tokens  # 1996 means 'the'\n",
    "    trigger_token_tensor = torch.tensor(trigger_token_ids)\n",
    "    return trigger_token_tensor\n",
    "\n",
    "\n",
    "def evaluate(net, test_iter, trigger_token_tensor):\n",
    "    # evaluate the accuracy of the model after concatenating the initial trigger token\n",
    "    net = net.to(device[0])\n",
    "    net.eval()\n",
    "    valid_accs = []\n",
    "    n = torch.tensor([0] * len(trigger_token_tensor))\n",
    "    m = deepcopy(trigger_token_tensor)\n",
    "    m = m.unsqueeze(0)\n",
    "    n = n.unsqueeze(0)\n",
    "    with torch.no_grad():\n",
    "        for batch in tqdm(test_iter):\n",
    "            a, b, y = batch\n",
    "            a = torch.cat((a[:, :position], m.repeat_interleave(a.shape[0], dim=0), a[:, position:]), dim=1)\n",
    "            b = torch.cat((b[:, :position], n.repeat_interleave(b.shape[0], dim=0), b[:, position:]), dim=1)\n",
    "            a = a.to(device[0])\n",
    "            b = b.to(device[0])\n",
    "            y = y.to(device[0])\n",
    "            # outputs = net(input_ids=a, token_type_ids=b)\n",
    "            # acc = (outputs.logits.argmax(dim=-1) == y).float().mean()\n",
    "            logits = net(input_ids = a, token_type_ids = b)\n",
    "            acc = (logits.argmax(dim=-1) == y).float().mean()\n",
    "            valid_accs.append(acc)\n",
    "    valid_acc = sum(valid_accs) / len(test_iter)\n",
    "    return valid_acc\n",
    "\n",
    "def extract_grad_hook(net, grad_in, grad_out):  # store the gradient in extracted_grads\n",
    "    extracted_grads.append(grad_out[0].mean(dim=0))\n",
    "\n",
    "\n",
    "def add_hook(net):\n",
    "    for module in net.modules():\n",
    "        if isinstance(module, nn.Embedding):\n",
    "            hook = module.register_backward_hook(extract_grad_hook)\n",
    "            break\n",
    "    return hook\n",
    "\n",
    "\n",
    "def get_gradient(net, test_iter, trigger_token_tensor):  # Calculate the loss to get the gradient\n",
    "    net = net.to(device[0])\n",
    "    net.train()\n",
    "    m = deepcopy(trigger_token_tensor)\n",
    "    m = m.unsqueeze(0)\n",
    "    n = torch.tensor([0] * len(trigger_token_tensor))\n",
    "    n = n.unsqueeze(0)\n",
    "    optimizer = torch.optim.AdamW(net.parameters())\n",
    "    for batch in tqdm(test_iter):\n",
    "        a, b, y = batch\n",
    "        a = torch.cat((a[:, :position], m.repeat_interleave(a.shape[0], dim=0), a[:, position:]), dim=1)\n",
    "        b = torch.cat((b[:, :position], n.repeat_interleave(b.shape[0], dim=0), b[:, position:]), dim=1)\n",
    "        a = a.to(device[0])\n",
    "        b = b.to(device[0])\n",
    "        y = y.to(device[0])\n",
    "        '''\n",
    "        outputs = net(input_ids=a, token_type_ids=b)\n",
    "        l = outputs.loss\n",
    "        optimizer.zero_grad()\n",
    "        l.backward()\n",
    "        '''\n",
    "        logits = net(input_ids = a, token_type_ids = b)\n",
    "        loss = criterion(logits, y)\n",
    "        optimizer.zero_grad()\n",
    "        loss.backward()\n",
    "\n",
    "\n",
    "def process_gradient(length, num_trigger_tokens):  # Process the gradient to get the average gradient\n",
    "    extracted_grads_copy = extracted_grads\n",
    "    extracted_grads_copy[0] = extracted_grads_copy[0]\n",
    "    temp = extracted_grads_copy[0]\n",
    "    temp = temp.unsqueeze(0)\n",
    "    for i in range(1, length - 1):\n",
    "        extracted_grads_copy[i] = extracted_grads_copy[i]\n",
    "        extracted_grads_copy[i] = extracted_grads_copy[i].unsqueeze(0)\n",
    "        temp = torch.cat((temp, extracted_grads_copy[i]), dim=0)\n",
    "    average_grad = temp.mean(dim=0)[position:position + num_trigger_tokens]\n",
    "    return average_grad\n",
    "\n",
    "\n",
    "def hotflip_attack(averaged_grad, embedding_matrix,\n",
    "                   num_candidates=1, increase_loss=False):\n",
    "    averaged_grad = averaged_grad.cpu()\n",
    "    embedding_matrix = embedding_matrix.cpu()\n",
    "    averaged_grad = averaged_grad.unsqueeze(0)\n",
    "    gradient_dot_embedding_matrix = torch.einsum(\"bij,kj->bik\",\n",
    "                                                 (averaged_grad, embedding_matrix))\n",
    "    if not increase_loss:\n",
    "        gradient_dot_embedding_matrix *= -1\n",
    "        # lower versus increase the class probability.\n",
    "    if num_candidates > 1:  # get top k options\n",
    "        _, best_k_ids = torch.topk(gradient_dot_embedding_matrix, num_candidates, dim=2)\n",
    "        return best_k_ids.detach().cpu().numpy()[0]  # Return candidates\n",
    "    _, best_at_each_step = gradient_dot_embedding_matrix.max(2)\n",
    "    return best_at_each_step[0].detach().cpu().numpy()\n",
    "\n",
    "\n",
    "def collection_attack(net, test_iter, num_candidates, num_epoch, trigger='the',  # Summarize each function\n",
    "                      num_trigger_tokens=3):\n",
    "    trigger_token_tensor = init_trigger_tokens(trigger, num_trigger_tokens)\n",
    "    print(f'Concatenation location:{position}')\n",
    "    valid_acc = evaluate(net, test_iter, trigger_token_tensor)\n",
    "    print(f'Initial trigger tokens state：the accuracy {valid_acc:.5f}')\n",
    "    embedding_weight = get_embedding_weight(net)\n",
    "    for i in range(num_epoch):\n",
    "        extracted_grads.clear()\n",
    "        hook = add_hook(net)\n",
    "        get_gradient(net, test_iter, trigger_token_tensor)\n",
    "        hook.remove()\n",
    "        average_grad = process_gradient(len(test_iter), num_trigger_tokens)\n",
    "        hot_token = hotflip_attack(average_grad, embedding_weight, num_candidates, increase_loss=True)\n",
    "        hot_token_tensor = torch.from_numpy(hot_token)\n",
    "        trigger_token_tensor, valid_acc = select_best_candid(net, test_iter, hot_token_tensor, trigger_token_tensor,\n",
    "                                                             valid_acc)\n",
    "        print(f'after {i + 1} rounds of attacking\\ntriggers: {trigger_token_tensor} \\nthe accuracy :{valid_acc:.5f} ')\n",
    "    return trigger_token_tensor, valid_acc  # Return the final trigger tokens (trigger length) and the accuracy after the attack\n",
    "\n",
    "\n",
    "def get_embedding_weight(net):\n",
    "    for module in net.modules():\n",
    "        if isinstance(module, nn.Embedding):\n",
    "            weight = module.weight\n",
    "            break\n",
    "    return weight\n",
    "\n",
    "\n",
    "def select_best_candid(net, test_iter, candid_trigger, trigger_token, valid_acc):\n",
    "    # Concatenate each candidate to each input to determine the final trigger token\n",
    "    n = torch.tensor([0] * len(trigger_token))\n",
    "    n = n.unsqueeze(0)\n",
    "    trigger_token = trigger_token.unsqueeze(0)\n",
    "    net.eval()\n",
    "    valid_accs = []\n",
    "    for i in range(candid_trigger.shape[0]):\n",
    "        trigger_token_temp = deepcopy(trigger_token)\n",
    "        for j in range(candid_trigger.shape[1]):\n",
    "            trigger_token_temp[0, i] = candid_trigger[i, j]\n",
    "            valid_accs = []\n",
    "            for batch in tqdm(test_iter):\n",
    "                a, b, y = batch\n",
    "                a = torch.cat((a[:, :position], trigger_token_temp.repeat_interleave(a.shape[0], dim=0),\n",
    "                               a[:, position:]), dim=1)\n",
    "                b = torch.cat((b[:, :position], n.repeat_interleave(b.shape[0], dim=0),\n",
    "                               b[:, position:]), dim=1)\n",
    "                a = a.to(device[0])\n",
    "                b = b.to(device[0])\n",
    "                y = y.to(device[0])\n",
    "                #outputs = net(input_ids=a, token_type_ids=b)\n",
    "                #acc = (outputs.logits.argmax(dim=-1) == y).float().mean()\n",
    "                logits = net(input_ids = a, token_type_ids = b)\n",
    "                acc = (logits.argmax(dim=-1) == y).float().mean()\n",
    "                valid_accs.append(acc)\n",
    "            temp = sum(valid_accs) / len(test_iter)\n",
    "            if temp < valid_acc:\n",
    "                valid_acc = temp\n",
    "                trigger_token[0, i] = candid_trigger[i, j]\n",
    "    return trigger_token[0], valid_acc  # Return the final trigger token and the accuracy after the attack\n",
    "\n",
    "collection_attack(Model, test_iter_pos, 5, 5, trigger='<pad>', num_trigger_tokens=1)\n",
    "collection_attack(Model, test_iter_pos, 5, 5, trigger='<pad>', num_trigger_tokens=2)\n",
    "collection_attack(Model, test_iter_pos, 5, 5, trigger='<pad>', num_trigger_tokens=3)"
   ]
  },
  {
   "cell_type": "code",
   "execution_count": 7,
   "id": "797e6b17-e406-4132-99dd-cf515c5dcc98",
   "metadata": {
    "tags": []
   },
   "outputs": [
    {
     "name": "stdout",
     "output_type": "stream",
     "text": [
      "Concatenation location:1\n"
     ]
    },
    {
     "name": "stderr",
     "output_type": "stream",
     "text": [
      "100%|██████████| 912/912 [00:05<00:00, 158.11it/s]\n"
     ]
    },
    {
     "name": "stdout",
     "output_type": "stream",
     "text": [
      "Initial trigger tokens state：the accuracy 0.91557\n"
     ]
    },
    {
     "name": "stderr",
     "output_type": "stream",
     "text": [
      "100%|██████████| 912/912 [00:19<00:00, 45.75it/s]\n",
      "100%|██████████| 912/912 [00:07<00:00, 125.11it/s]\n",
      "100%|██████████| 912/912 [00:06<00:00, 131.57it/s]\n",
      "100%|██████████| 912/912 [00:06<00:00, 130.84it/s]\n",
      "100%|██████████| 912/912 [00:06<00:00, 131.85it/s]\n",
      "100%|██████████| 912/912 [00:07<00:00, 125.55it/s]\n"
     ]
    },
    {
     "name": "stdout",
     "output_type": "stream",
     "text": [
      "after 1 rounds of attacking\n",
      "triggers: tensor([16173]) \n",
      "the accuracy :0.68202 \n"
     ]
    },
    {
     "name": "stderr",
     "output_type": "stream",
     "text": [
      "100%|██████████| 912/912 [00:19<00:00, 46.04it/s]\n",
      "100%|██████████| 912/912 [00:07<00:00, 126.61it/s]\n",
      "100%|██████████| 912/912 [00:06<00:00, 131.14it/s]\n",
      "100%|██████████| 912/912 [00:06<00:00, 132.12it/s]\n",
      "100%|██████████| 912/912 [00:07<00:00, 125.46it/s]\n",
      "100%|██████████| 912/912 [00:06<00:00, 133.15it/s]\n"
     ]
    },
    {
     "name": "stdout",
     "output_type": "stream",
     "text": [
      "after 2 rounds of attacking\n",
      "triggers: tensor([16173]) \n",
      "the accuracy :0.68202 \n"
     ]
    },
    {
     "name": "stderr",
     "output_type": "stream",
     "text": [
      "100%|██████████| 912/912 [00:19<00:00, 46.36it/s]\n",
      "100%|██████████| 912/912 [00:07<00:00, 120.21it/s]\n",
      "100%|██████████| 912/912 [00:06<00:00, 134.77it/s]\n",
      "100%|██████████| 912/912 [00:06<00:00, 134.06it/s]\n",
      "100%|██████████| 912/912 [00:07<00:00, 126.52it/s]\n",
      "100%|██████████| 912/912 [00:06<00:00, 132.67it/s]\n"
     ]
    },
    {
     "name": "stdout",
     "output_type": "stream",
     "text": [
      "after 3 rounds of attacking\n",
      "triggers: tensor([16173]) \n",
      "the accuracy :0.68202 \n"
     ]
    },
    {
     "name": "stderr",
     "output_type": "stream",
     "text": [
      "100%|██████████| 912/912 [00:19<00:00, 47.23it/s]\n",
      "100%|██████████| 912/912 [00:07<00:00, 119.39it/s]\n",
      "100%|██████████| 912/912 [00:07<00:00, 129.02it/s]\n",
      "100%|██████████| 912/912 [00:06<00:00, 134.56it/s]\n",
      "100%|██████████| 912/912 [00:07<00:00, 127.34it/s]\n",
      "100%|██████████| 912/912 [00:06<00:00, 133.69it/s]\n"
     ]
    },
    {
     "name": "stdout",
     "output_type": "stream",
     "text": [
      "after 4 rounds of attacking\n",
      "triggers: tensor([16173]) \n",
      "the accuracy :0.68202 \n"
     ]
    },
    {
     "name": "stderr",
     "output_type": "stream",
     "text": [
      "100%|██████████| 912/912 [00:17<00:00, 51.33it/s]\n",
      "100%|██████████| 912/912 [00:07<00:00, 123.38it/s]\n",
      "100%|██████████| 912/912 [00:06<00:00, 132.49it/s]\n",
      "100%|██████████| 912/912 [00:06<00:00, 133.24it/s]\n",
      "100%|██████████| 912/912 [00:06<00:00, 133.04it/s]\n",
      "100%|██████████| 912/912 [00:07<00:00, 129.54it/s]\n"
     ]
    },
    {
     "name": "stdout",
     "output_type": "stream",
     "text": [
      "after 5 rounds of attacking\n",
      "triggers: tensor([16173]) \n",
      "the accuracy :0.68202 \n",
      "Concatenation location:1\n"
     ]
    },
    {
     "name": "stderr",
     "output_type": "stream",
     "text": [
      "100%|██████████| 912/912 [00:05<00:00, 165.75it/s]\n"
     ]
    },
    {
     "name": "stdout",
     "output_type": "stream",
     "text": [
      "Initial trigger tokens state：the accuracy 0.91009\n"
     ]
    },
    {
     "name": "stderr",
     "output_type": "stream",
     "text": [
      "100%|██████████| 912/912 [00:19<00:00, 46.69it/s]\n",
      "100%|██████████| 912/912 [00:07<00:00, 121.93it/s]\n",
      "100%|██████████| 912/912 [00:06<00:00, 134.76it/s]\n",
      "100%|██████████| 912/912 [00:06<00:00, 136.05it/s]\n",
      "100%|██████████| 912/912 [00:07<00:00, 129.03it/s]\n",
      "100%|██████████| 912/912 [00:06<00:00, 134.43it/s]\n",
      "100%|██████████| 912/912 [00:06<00:00, 134.70it/s]\n",
      "100%|██████████| 912/912 [00:06<00:00, 132.51it/s]\n",
      "100%|██████████| 912/912 [00:06<00:00, 134.33it/s]\n",
      "100%|██████████| 912/912 [00:06<00:00, 133.54it/s]\n",
      "100%|██████████| 912/912 [00:06<00:00, 132.89it/s]\n"
     ]
    },
    {
     "name": "stdout",
     "output_type": "stream",
     "text": [
      "after 1 rounds of attacking\n",
      "triggers: tensor([23403, 24464]) \n",
      "the accuracy :0.65461 \n"
     ]
    },
    {
     "name": "stderr",
     "output_type": "stream",
     "text": [
      "100%|██████████| 912/912 [00:18<00:00, 48.45it/s]\n",
      "100%|██████████| 912/912 [00:07<00:00, 120.92it/s]\n",
      "100%|██████████| 912/912 [00:07<00:00, 127.73it/s]\n",
      "100%|██████████| 912/912 [00:06<00:00, 134.55it/s]\n",
      "100%|██████████| 912/912 [00:06<00:00, 135.79it/s]\n",
      "100%|██████████| 912/912 [00:06<00:00, 133.43it/s]\n",
      "100%|██████████| 912/912 [00:06<00:00, 131.20it/s]\n",
      "100%|██████████| 912/912 [00:06<00:00, 134.39it/s]\n",
      "100%|██████████| 912/912 [00:07<00:00, 129.07it/s]\n",
      "100%|██████████| 912/912 [00:06<00:00, 134.43it/s]\n",
      "100%|██████████| 912/912 [00:06<00:00, 134.13it/s]\n"
     ]
    },
    {
     "name": "stdout",
     "output_type": "stream",
     "text": [
      "after 2 rounds of attacking\n",
      "triggers: tensor([28125, 19103]) \n",
      "the accuracy :0.24232 \n"
     ]
    },
    {
     "name": "stderr",
     "output_type": "stream",
     "text": [
      "100%|██████████| 912/912 [00:19<00:00, 46.59it/s]\n",
      "100%|██████████| 912/912 [00:07<00:00, 118.94it/s]\n",
      "100%|██████████| 912/912 [00:06<00:00, 134.95it/s]\n",
      "100%|██████████| 912/912 [00:06<00:00, 134.52it/s]\n",
      "100%|██████████| 912/912 [00:06<00:00, 133.57it/s]\n",
      "100%|██████████| 912/912 [00:06<00:00, 134.05it/s]\n",
      "100%|██████████| 912/912 [00:06<00:00, 133.13it/s]\n",
      "100%|██████████| 912/912 [00:06<00:00, 134.40it/s]\n",
      "100%|██████████| 912/912 [00:06<00:00, 135.53it/s]\n",
      "100%|██████████| 912/912 [00:06<00:00, 133.71it/s]\n",
      "100%|██████████| 912/912 [00:06<00:00, 134.80it/s]\n"
     ]
    },
    {
     "name": "stdout",
     "output_type": "stream",
     "text": [
      "after 3 rounds of attacking\n",
      "triggers: tensor([27775, 21202]) \n",
      "the accuracy :0.17982 \n"
     ]
    },
    {
     "name": "stderr",
     "output_type": "stream",
     "text": [
      "100%|██████████| 912/912 [00:17<00:00, 51.23it/s]\n",
      "100%|██████████| 912/912 [00:06<00:00, 131.94it/s]\n",
      "100%|██████████| 912/912 [00:06<00:00, 133.27it/s]\n",
      "100%|██████████| 912/912 [00:06<00:00, 135.22it/s]\n",
      "100%|██████████| 912/912 [00:06<00:00, 135.62it/s]\n",
      "100%|██████████| 912/912 [00:06<00:00, 133.05it/s]\n",
      "100%|██████████| 912/912 [00:06<00:00, 135.65it/s]\n",
      "100%|██████████| 912/912 [00:06<00:00, 135.57it/s]\n",
      "100%|██████████| 912/912 [00:06<00:00, 130.91it/s]\n",
      "100%|██████████| 912/912 [00:06<00:00, 133.94it/s]\n",
      "100%|██████████| 912/912 [00:06<00:00, 134.04it/s]\n"
     ]
    },
    {
     "name": "stdout",
     "output_type": "stream",
     "text": [
      "after 4 rounds of attacking\n",
      "triggers: tensor([28125, 21202]) \n",
      "the accuracy :0.11513 \n"
     ]
    },
    {
     "name": "stderr",
     "output_type": "stream",
     "text": [
      "100%|██████████| 912/912 [00:17<00:00, 50.85it/s]\n",
      "100%|██████████| 912/912 [00:07<00:00, 125.24it/s]\n",
      "100%|██████████| 912/912 [00:06<00:00, 135.22it/s]\n",
      "100%|██████████| 912/912 [00:06<00:00, 133.84it/s]\n",
      "100%|██████████| 912/912 [00:06<00:00, 134.24it/s]\n",
      "100%|██████████| 912/912 [00:06<00:00, 133.33it/s]\n",
      "100%|██████████| 912/912 [00:06<00:00, 134.21it/s]\n",
      "100%|██████████| 912/912 [00:06<00:00, 132.67it/s]\n",
      "100%|██████████| 912/912 [00:06<00:00, 134.82it/s]\n",
      "100%|██████████| 912/912 [00:07<00:00, 127.67it/s]\n",
      "100%|██████████| 912/912 [00:07<00:00, 129.80it/s]\n"
     ]
    },
    {
     "name": "stdout",
     "output_type": "stream",
     "text": [
      "after 5 rounds of attacking\n",
      "triggers: tensor([28125, 21202]) \n",
      "the accuracy :0.11513 \n",
      "Concatenation location:1\n"
     ]
    },
    {
     "name": "stderr",
     "output_type": "stream",
     "text": [
      "100%|██████████| 912/912 [00:05<00:00, 168.73it/s]\n"
     ]
    },
    {
     "name": "stdout",
     "output_type": "stream",
     "text": [
      "Initial trigger tokens state：the accuracy 0.90899\n"
     ]
    },
    {
     "name": "stderr",
     "output_type": "stream",
     "text": [
      "100%|██████████| 912/912 [00:17<00:00, 51.51it/s]\n",
      "100%|██████████| 912/912 [00:07<00:00, 127.60it/s]\n",
      "100%|██████████| 912/912 [00:06<00:00, 134.95it/s]\n",
      "100%|██████████| 912/912 [00:06<00:00, 135.45it/s]\n",
      "100%|██████████| 912/912 [00:06<00:00, 132.37it/s]\n",
      "100%|██████████| 912/912 [00:06<00:00, 134.27it/s]\n",
      "100%|██████████| 912/912 [00:06<00:00, 133.85it/s]\n",
      "100%|██████████| 912/912 [00:06<00:00, 133.72it/s]\n",
      "100%|██████████| 912/912 [00:06<00:00, 136.32it/s]\n",
      "100%|██████████| 912/912 [00:06<00:00, 136.09it/s]\n",
      "100%|██████████| 912/912 [00:07<00:00, 128.65it/s]\n",
      "100%|██████████| 912/912 [00:06<00:00, 135.31it/s]\n",
      "100%|██████████| 912/912 [00:06<00:00, 133.99it/s]\n",
      "100%|██████████| 912/912 [00:06<00:00, 133.05it/s]\n",
      "100%|██████████| 912/912 [00:06<00:00, 135.37it/s]\n",
      "100%|██████████| 912/912 [00:06<00:00, 132.99it/s]\n"
     ]
    },
    {
     "name": "stdout",
     "output_type": "stream",
     "text": [
      "after 1 rounds of attacking\n",
      "triggers: tensor([17772, 23403, 29701]) \n",
      "the accuracy :0.50439 \n"
     ]
    },
    {
     "name": "stderr",
     "output_type": "stream",
     "text": [
      "100%|██████████| 912/912 [00:19<00:00, 47.64it/s]\n",
      "100%|██████████| 912/912 [00:07<00:00, 122.74it/s]\n",
      "100%|██████████| 912/912 [00:06<00:00, 134.23it/s]\n",
      "100%|██████████| 912/912 [00:07<00:00, 123.94it/s]\n",
      "100%|██████████| 912/912 [00:06<00:00, 131.56it/s]\n",
      "100%|██████████| 912/912 [00:06<00:00, 131.84it/s]\n",
      "100%|██████████| 912/912 [00:07<00:00, 123.63it/s]\n",
      "100%|██████████| 912/912 [00:06<00:00, 134.04it/s]\n",
      "100%|██████████| 912/912 [00:07<00:00, 128.94it/s]\n",
      "100%|██████████| 912/912 [00:06<00:00, 134.13it/s]\n",
      "100%|██████████| 912/912 [00:06<00:00, 134.61it/s]\n",
      "100%|██████████| 912/912 [00:06<00:00, 133.61it/s]\n",
      "100%|██████████| 912/912 [00:06<00:00, 133.92it/s]\n",
      "100%|██████████| 912/912 [00:06<00:00, 134.62it/s]\n",
      "100%|██████████| 912/912 [00:07<00:00, 129.10it/s]\n",
      "100%|██████████| 912/912 [00:06<00:00, 134.75it/s]\n"
     ]
    },
    {
     "name": "stdout",
     "output_type": "stream",
     "text": [
      "after 2 rounds of attacking\n",
      "triggers: tensor([27134, 24557, 29701]) \n",
      "the accuracy :0.03509 \n"
     ]
    },
    {
     "name": "stderr",
     "output_type": "stream",
     "text": [
      "100%|██████████| 912/912 [00:18<00:00, 48.30it/s]\n",
      "100%|██████████| 912/912 [00:07<00:00, 122.13it/s]\n",
      "100%|██████████| 912/912 [00:06<00:00, 132.81it/s]\n",
      "100%|██████████| 912/912 [00:06<00:00, 130.94it/s]\n",
      "100%|██████████| 912/912 [00:06<00:00, 134.15it/s]\n",
      "100%|██████████| 912/912 [00:06<00:00, 134.31it/s]\n",
      "100%|██████████| 912/912 [00:06<00:00, 135.66it/s]\n",
      "100%|██████████| 912/912 [00:06<00:00, 133.48it/s]\n",
      "100%|██████████| 912/912 [00:07<00:00, 129.10it/s]\n",
      "100%|██████████| 912/912 [00:06<00:00, 135.48it/s]\n",
      "100%|██████████| 912/912 [00:06<00:00, 134.32it/s]\n",
      "100%|██████████| 912/912 [00:06<00:00, 134.93it/s]\n",
      "100%|██████████| 912/912 [00:07<00:00, 126.51it/s]\n",
      "100%|██████████| 912/912 [00:07<00:00, 126.97it/s]\n",
      "100%|██████████| 912/912 [00:06<00:00, 131.09it/s]\n",
      "100%|██████████| 912/912 [00:06<00:00, 133.84it/s]\n"
     ]
    },
    {
     "name": "stdout",
     "output_type": "stream",
     "text": [
      "after 3 rounds of attacking\n",
      "triggers: tensor([27134, 12950, 29701]) \n",
      "the accuracy :0.02741 \n"
     ]
    },
    {
     "name": "stderr",
     "output_type": "stream",
     "text": [
      "100%|██████████| 912/912 [00:18<00:00, 49.22it/s]\n",
      "100%|██████████| 912/912 [00:07<00:00, 121.64it/s]\n",
      "100%|██████████| 912/912 [00:06<00:00, 134.16it/s]\n",
      "100%|██████████| 912/912 [00:06<00:00, 133.09it/s]\n",
      "100%|██████████| 912/912 [00:07<00:00, 129.40it/s]\n",
      "100%|██████████| 912/912 [00:06<00:00, 135.13it/s]\n",
      "100%|██████████| 912/912 [00:06<00:00, 133.46it/s]\n",
      "100%|██████████| 912/912 [00:06<00:00, 134.16it/s]\n",
      "100%|██████████| 912/912 [00:06<00:00, 134.76it/s]\n",
      "100%|██████████| 912/912 [00:06<00:00, 133.12it/s]\n",
      "100%|██████████| 912/912 [00:06<00:00, 134.63it/s]\n",
      "100%|██████████| 912/912 [00:06<00:00, 133.87it/s]\n",
      "100%|██████████| 912/912 [00:06<00:00, 132.04it/s]\n",
      "100%|██████████| 912/912 [00:06<00:00, 134.65it/s]\n",
      "100%|██████████| 912/912 [00:06<00:00, 134.85it/s]\n",
      "100%|██████████| 912/912 [00:06<00:00, 133.33it/s]\n"
     ]
    },
    {
     "name": "stdout",
     "output_type": "stream",
     "text": [
      "after 4 rounds of attacking\n",
      "triggers: tensor([27134, 12950, 29701]) \n",
      "the accuracy :0.02741 \n"
     ]
    },
    {
     "name": "stderr",
     "output_type": "stream",
     "text": [
      "100%|██████████| 912/912 [00:18<00:00, 48.81it/s]\n",
      "100%|██████████| 912/912 [00:06<00:00, 134.61it/s]\n",
      "100%|██████████| 912/912 [00:06<00:00, 133.80it/s]\n",
      "100%|██████████| 912/912 [00:06<00:00, 131.07it/s]\n",
      "100%|██████████| 912/912 [00:06<00:00, 134.62it/s]\n",
      "100%|██████████| 912/912 [00:06<00:00, 133.26it/s]\n",
      "100%|██████████| 912/912 [00:07<00:00, 128.97it/s]\n",
      "100%|██████████| 912/912 [00:06<00:00, 136.36it/s]\n",
      "100%|██████████| 912/912 [00:06<00:00, 134.01it/s]\n",
      "100%|██████████| 912/912 [00:06<00:00, 135.91it/s]\n",
      "100%|██████████| 912/912 [00:06<00:00, 135.36it/s]\n",
      "100%|██████████| 912/912 [00:06<00:00, 134.38it/s]\n",
      "100%|██████████| 912/912 [00:06<00:00, 136.49it/s]\n",
      "100%|██████████| 912/912 [00:06<00:00, 135.74it/s]\n",
      "100%|██████████| 912/912 [00:06<00:00, 134.11it/s]\n",
      "100%|██████████| 912/912 [00:06<00:00, 136.45it/s]"
     ]
    },
    {
     "name": "stdout",
     "output_type": "stream",
     "text": [
      "after 5 rounds of attacking\n",
      "triggers: tensor([27134, 12950, 29701]) \n",
      "the accuracy :0.02741 \n"
     ]
    },
    {
     "name": "stderr",
     "output_type": "stream",
     "text": [
      "\n"
     ]
    },
    {
     "data": {
      "text/plain": [
       "(tensor([27134, 12950, 29701]), tensor(0.0274, device='cuda:0'))"
      ]
     },
     "execution_count": 7,
     "metadata": {},
     "output_type": "execute_result"
    }
   ],
   "source": [
    "collection_attack(Model, test_iter_neg, 5, 5, trigger='<pad>', num_trigger_tokens=1)\n",
    "collection_attack(Model, test_iter_neg, 5, 5, trigger='<pad>', num_trigger_tokens=2)\n",
    "collection_attack(Model, test_iter_neg, 5, 5, trigger='<pad>', num_trigger_tokens=3)"
   ]
  }
 ],
 "metadata": {
  "kernelspec": {
   "display_name": "Python 3 (ipykernel)",
   "language": "python",
   "name": "python3"
  },
  "language_info": {
   "codemirror_mode": {
    "name": "ipython",
    "version": 3
   },
   "file_extension": ".py",
   "mimetype": "text/x-python",
   "name": "python",
   "nbconvert_exporter": "python",
   "pygments_lexer": "ipython3",
   "version": "3.8.10"
  }
 },
 "nbformat": 4,
 "nbformat_minor": 5
}
