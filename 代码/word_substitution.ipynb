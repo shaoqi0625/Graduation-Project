{
 "cells": [
  {
   "cell_type": "code",
   "execution_count": 1,
   "id": "5842e12b-dd72-4baa-bdb8-05cb6856a64f",
   "metadata": {
    "tags": []
   },
   "outputs": [
    {
     "name": "stdout",
     "output_type": "stream",
     "text": [
      "Original sentence: This is a good example.\n",
      "Adversarial sentence: This represent a practiced model .\n"
     ]
    }
   ],
   "source": [
    "import nltk\n",
    "from nltk.corpus import wordnet\n",
    "from nltk.tokenize import word_tokenize\n",
    "\n",
    "def get_wordnet_pos(treebank_tag):\n",
    "    if treebank_tag.startswith('J'):\n",
    "        return wordnet.ADJ\n",
    "    elif treebank_tag.startswith('V'):\n",
    "        return wordnet.VERB\n",
    "    elif treebank_tag.startswith('N'):\n",
    "        return wordnet.NOUN\n",
    "    elif treebank_tag.startswith('R'):\n",
    "        return wordnet.ADV\n",
    "    else:\n",
    "        return None\n",
    "\n",
    "def generate_synonyms(word):\n",
    "    synonyms = set()\n",
    "    for synset in wordnet.synsets(word):\n",
    "        for lemma in synset.lemmas():\n",
    "            synonyms.add(lemma.name())\n",
    "    return list(synonyms)\n",
    "\n",
    "def textfooler(sentence):\n",
    "    tokens = word_tokenize(sentence)\n",
    "    tagged_tokens = nltk.pos_tag(tokens)\n",
    "    \n",
    "    for i, (word, tag) in enumerate(tagged_tokens):\n",
    "        wn_tag = get_wordnet_pos(tag)\n",
    "        if wn_tag is None:\n",
    "            continue\n",
    "        \n",
    "        synonyms = generate_synonyms(word)\n",
    "        if len(synonyms) > 0:\n",
    "            # Choose a random synonym as replacement\n",
    "            new_word = synonyms[0]\n",
    "            tokens[i] = new_word\n",
    "    \n",
    "    return ' '.join(tokens)\n",
    "\n",
    "# Example usage\n",
    "original_sentence = \"This is a good example.\"\n",
    "adversarial_sentence = textfooler(original_sentence)\n",
    "print(\"Original sentence:\", original_sentence)\n",
    "print(\"Adversarial sentence:\", adversarial_sentence)"
   ]
  },
  {
   "cell_type": "code",
   "execution_count": 2,
   "id": "03d3c76f-4c16-48f3-b4d9-b0cf58eb117b",
   "metadata": {
    "tags": []
   },
   "outputs": [
    {
     "name": "stderr",
     "output_type": "stream",
     "text": [
      "/root/miniconda3/lib/python3.8/site-packages/transformers/tokenization_utils_base.py:1985: FutureWarning: Calling BertTokenizer.from_pretrained() with the path to a single file or url is deprecated and won't be possible anymore in v5. Use a model identifier or the path to a directory instead.\n",
      "  warnings.warn(\n",
      "/root/miniconda3/lib/python3.8/site-packages/torch/_utils.py:776: UserWarning: TypedStorage is deprecated. It will be removed in the future and UntypedStorage will be the only storage class. This should only matter to you if you are using storages directly.  To access UntypedStorage directly, use tensor.untyped_storage() instead of tensor.storage()\n",
      "  return self.fget.__get__(instance, owner)()\n",
      "Some weights of BertForSequenceClassification were not initialized from the model checkpoint at PreTrainedModelBert/pytorch_model.bin and are newly initialized: ['classifier.bias', 'classifier.weight']\n",
      "You should probably TRAIN this model on a down-stream task to be able to use it for predictions and inference.\n"
     ]
    }
   ],
   "source": [
    "import torch\n",
    "from torch import nn\n",
    "import os\n",
    "import random\n",
    "from torch.utils import data\n",
    "from tqdm import tqdm\n",
    "import numpy as np\n",
    "from copy import deepcopy\n",
    "from transformers import BertTokenizer, BertForSequenceClassification, BertConfig\n",
    "import warnings\n",
    "import csv\n",
    "BERT_path = 'PreTrainedModelBert'  # path to bert model\n",
    "tokenize = BertTokenizer.from_pretrained(os.path.join(BERT_path, 'vocab.txt'))\n",
    "model_config = BertConfig.from_pretrained(os.path.join(BERT_path, 'config.json'))\n",
    "Model = BertForSequenceClassification.from_pretrained(os.path.join(BERT_path, 'pytorch_model.bin'), config=model_config)"
   ]
  },
  {
   "cell_type": "code",
   "execution_count": 3,
   "id": "dd802756-1d71-4165-8da5-fb17e5022a6f",
   "metadata": {
    "tags": []
   },
   "outputs": [
    {
     "name": "stdout",
     "output_type": "stream",
     "text": [
      "reading data finished\n",
      "\n"
     ]
    }
   ],
   "source": [
    "'''\n",
    "IMDB Data\n",
    "'''\n",
    "\n",
    "### Load data\n",
    "\n",
    "\n",
    "def read_test_data(data_dir, is_train):\n",
    "    data, labels = [], []\n",
    "    label = 'pos'  # choose a label to attack\n",
    "    data_path = os.path.join(data_dir, 'train' if is_train else 'test', label)\n",
    "    for file in os.listdir(data_path):\n",
    "        with open(os.path.join(data_path, file), 'rb') as f:\n",
    "            review = f.read().decode('utf-8').replace('\\n', ' ')\n",
    "            review = textfooler(review)\n",
    "            review = 'miserable what entertaining ' + review\n",
    "            data.append(review)\n",
    "            labels.append(1 if label == 'pos' else 0)\n",
    "    return data, labels\n",
    "\n",
    "\n",
    "def load_array(data_arrays, batch_size, is_train=True):\n",
    "    \"\"\"Constructs a PyTorch data iterator.\"\"\"\n",
    "    #data_arrays = [torch.tensor(arr) for arr in data_arrays]\n",
    "    dataset = data.TensorDataset(*data_arrays)\n",
    "    return data.DataLoader(dataset, batch_size, shuffle=is_train)\n",
    "\n",
    "\n",
    "def load_imdb_data(batch_size, num_steps=500):\n",
    "    data_dir = 'aclImdb'  # Path to download dataset\n",
    "    test_data = read_test_data(data_dir, False)\n",
    "    test_encoding = tokenize(test_data[0], return_tensors=\"pt\", padding=True, truncation=True, max_length=num_steps)\n",
    "    test_iter = load_array((test_encoding['input_ids'], test_encoding['token_type_ids'], torch.tensor(test_data[1])),\n",
    "                           batch_size,\n",
    "                           is_train=False)\n",
    "    return test_iter\n",
    "\n",
    "def try_all_gpus():\n",
    "    devices = [torch.device(f'cuda:{i}')\n",
    "               for i in range(torch.cuda.device_count())]\n",
    "    return devices if devices else [torch.device('cpu')]\n",
    "\n",
    "test_iter = load_imdb_data(10)\n",
    "#train_iter, test_iter = load_sst_data(10)\n",
    "# Data preprocessing and loading\n",
    "print(\"reading data finished\\n\")"
   ]
  },
  {
   "cell_type": "code",
   "execution_count": 7,
   "id": "d6c1e373-caae-4733-9c6c-6006ce409c18",
   "metadata": {
    "tags": []
   },
   "outputs": [
    {
     "name": "stdout",
     "output_type": "stream",
     "text": [
      "[\"miserable what entertaining I survive and regard this picture end night after exist blarney to by a few Friend of mine . I 'll accommodate that I exist loth to regard it because from what I get_it_on of Ashton Kutcher he exist just able to practice funniness . I exist unseasonable . Kutcher bring the character of Jake Emil_Hermann_Fischer selfsame well , and Kevin Costner bring ben Randall with such professionalism . The mansion of a right picture exist that it can toy_dog with our emotion . This one practice just that . The integral dramatics ( which exist trade kayoed ) exist whelm by laughter during the beginning half of the picture , and exist impress to buck during the mo half . While give-up_the_ghost the dramatics I not just regard many charwoman in buck , but many fully maturate man as well , try_out desperately not to Army_of_the_Pure anyone regard them exigent . This picture exist cracking , and I indicate that you survive regard it before you evaluator .\"]\n",
      "[\"miserable what entertaining I survive and regard this picture end night after exist blarney to by a few Friend of mine . I 'll accommodate that I exist loth to regard it because from what I get_it_on of Ashton Kutcher he exist just able to practice funniness . I exist unseasonable . Kutcher bring the character of Jake Emil_Hermann_Fischer selfsame well , and Kevin Costner bring ben Randall with such professionalism . The mansion of a right picture exist that it can toy_dog with our emotion . This one practice just that . The integral dramatics ( which exist trade kayoed ) exist whelm by laughter during the beginning half of the picture , and exist impress to buck during the mo half . While give-up_the_ghost the dramatics I not just regard many charwoman in buck , but many fully maturate man as well , try_out desperately not to Army_of_the_Pure anyone regard them exigent . This picture exist cracking , and I indicate that you survive regard it before you evaluator .\", \"miserable what entertaining My young_man and I survive to sentinel The Guardian.At beginning I practice n't want to sentinel it , but I get_it_on the movie- It exist definitely the right picture I have_got regard in sometime.They portray the USCG selfsame well , it actually indicate me what they practice and I reckon they should actually beryllium treasure more.Not just practice it Blackbeard but it exist a actually right picture . The picture appearance what the actually practice and how voiceless the farm_out is.I reckon exist a USCG would beryllium dispute and selfsame scarey . It exist a cracking picture all around . I would indicate this picture for anyone to see.The end broke my sum but I get_it_on why he practice it . The plot_line exist cracking I reach it 2 flip up . I hollo it exist selfsame worked_up , I would reach it a 20 if I could !\"]\n",
      "[\"miserable what entertaining I survive and regard this picture end night after exist blarney to by a few Friend of mine . I 'll accommodate that I exist loth to regard it because from what I get_it_on of Ashton Kutcher he exist just able to practice funniness . I exist unseasonable . Kutcher bring the character of Jake Emil_Hermann_Fischer selfsame well , and Kevin Costner bring ben Randall with such professionalism . The mansion of a right picture exist that it can toy_dog with our emotion . This one practice just that . The integral dramatics ( which exist trade kayoed ) exist whelm by laughter during the beginning half of the picture , and exist impress to buck during the mo half . While give-up_the_ghost the dramatics I not just regard many charwoman in buck , but many fully maturate man as well , try_out desperately not to Army_of_the_Pure anyone regard them exigent . This picture exist cracking , and I indicate that you survive regard it before you evaluator .\", \"miserable what entertaining My young_man and I survive to sentinel The Guardian.At beginning I practice n't want to sentinel it , but I get_it_on the movie- It exist definitely the right picture I have_got regard in sometime.They portray the USCG selfsame well , it actually indicate me what they practice and I reckon they should actually beryllium treasure more.Not just practice it Blackbeard but it exist a actually right picture . The picture appearance what the actually practice and how voiceless the farm_out is.I reckon exist a USCG would beryllium dispute and selfsame scarey . It exist a cracking picture all around . I would indicate this picture for anyone to see.The end broke my sum but I get_it_on why he practice it . The plot_line exist cracking I reach it 2 flip up . I hollo it exist selfsame worked_up , I would reach it a 20 if I could !\", 'miserable what entertaining If you have_got inquire me how the picture exist throughout the picture , I would have_got tell you it exist cracking ! still , I go_forth the dramatics find ungratified . After reckon a footling about it , I conceive the problem exist the rate of the end . I look that the bulk of the picture impress tolerant of boring , and and_so the end spring_up selfsame firm . thus , I would tell the end go_forth me disappointed. < atomic_number_35 / > < atomic_number_35 / > I reckon that the character exist well spring_up . Costner and Kutcher both portray their character selfsame well . Yes ! Ashton Kutcher can dissemble ! likewise , the unlike family_relationship between the character seem selfsame existent . what_is_more , I reckon that the unlike plot pedigree exist well spring_up . overall , it exist a right picture and I would urge regard it. < atomic_number_35 / > < atomic_number_35 / > In end : right character , cracking plot , sickly Written/Edited end . withal , survive regard It ! ! !']\n",
      "[\"miserable what entertaining I survive and regard this picture end night after exist blarney to by a few Friend of mine . I 'll accommodate that I exist loth to regard it because from what I get_it_on of Ashton Kutcher he exist just able to practice funniness . I exist unseasonable . Kutcher bring the character of Jake Emil_Hermann_Fischer selfsame well , and Kevin Costner bring ben Randall with such professionalism . The mansion of a right picture exist that it can toy_dog with our emotion . This one practice just that . The integral dramatics ( which exist trade kayoed ) exist whelm by laughter during the beginning half of the picture , and exist impress to buck during the mo half . While give-up_the_ghost the dramatics I not just regard many charwoman in buck , but many fully maturate man as well , try_out desperately not to Army_of_the_Pure anyone regard them exigent . This picture exist cracking , and I indicate that you survive regard it before you evaluator .\", \"miserable what entertaining My young_man and I survive to sentinel The Guardian.At beginning I practice n't want to sentinel it , but I get_it_on the movie- It exist definitely the right picture I have_got regard in sometime.They portray the USCG selfsame well , it actually indicate me what they practice and I reckon they should actually beryllium treasure more.Not just practice it Blackbeard but it exist a actually right picture . The picture appearance what the actually practice and how voiceless the farm_out is.I reckon exist a USCG would beryllium dispute and selfsame scarey . It exist a cracking picture all around . I would indicate this picture for anyone to see.The end broke my sum but I get_it_on why he practice it . The plot_line exist cracking I reach it 2 flip up . I hollo it exist selfsame worked_up , I would reach it a 20 if I could !\", 'miserable what entertaining If you have_got inquire me how the picture exist throughout the picture , I would have_got tell you it exist cracking ! still , I go_forth the dramatics find ungratified . After reckon a footling about it , I conceive the problem exist the rate of the end . I look that the bulk of the picture impress tolerant of boring , and and_so the end spring_up selfsame firm . thus , I would tell the end go_forth me disappointed. < atomic_number_35 / > < atomic_number_35 / > I reckon that the character exist well spring_up . Costner and Kutcher both portray their character selfsame well . Yes ! Ashton Kutcher can dissemble ! likewise , the unlike family_relationship between the character seem selfsame existent . what_is_more , I reckon that the unlike plot pedigree exist well spring_up . overall , it exist a right picture and I would urge regard it. < atomic_number_35 / > < atomic_number_35 / > In end : right character , cracking plot , sickly Written/Edited end . withal , survive regard It ! ! !', \"miserable what entertaining The all_right unretentive I 've ever regard . Some reviewer indicate it might have_got exist extended , ascribable to the denseness of perceptivity it volunteer . There 's caustic_remark in that remark and footling deservingness . The roleplay exist all up to Noonan and he stockpile his ungratifying character absolutely . I might have_got choose that the storyteller beryllium LE `` placeable '' , but the dignity lend exist pitch_shot double-dyed . This exist a unretentive for multitude who study , for those whose `` Browning_automatic_rifle '' exist define eminent and for those who realise that surviving in a culture that celebrate imbecility and platitude can form obstinate and acerb guardian of dish . A beautiful unretentive picture . FWIW : I exist proud_of at the Picasso character_reference , since I at_one_time conceive that Picasso exist just another graphics lady_of_pleasure with footling natural_endowment ; like , I adopt , well-nigh multitude - until the Clarence_Day I regard some cast he reach when he exist 12 . Picasso exist a all_right drawer and a bright creative_person at that senesce than many creative_person will ever suit in a life . I silent instantly why he have_got to reach the graphics he suit get_it_on for .\"]\n"
     ]
    }
   ],
   "source": [
    "data, labels = [], []\n",
    "label = 'pos'  # choose a label to attack\n",
    "data_path = os.path.join('test_dir', label)\n",
    "for file in os.listdir(data_path):\n",
    "    with open(os.path.join(data_path, file), 'rb') as f:\n",
    "        review = f.read().decode('utf-8').replace('\\n', ' ')\n",
    "        review = textfooler(review)\n",
    "        review = 'miserable what entertaining ' + review\n",
    "        data.append(review)\n",
    "        print(data)\n",
    "        labels.append(1 if label == 'pos' else 0)"
   ]
  },
  {
   "cell_type": "code",
   "execution_count": 4,
   "id": "3cede461-56ef-463c-b799-348600eb38ac",
   "metadata": {
    "tags": []
   },
   "outputs": [],
   "source": [
    "device = try_all_gpus()\n",
    "model = torch.load('Bert_IMDB_Fine_Tuning/Bert_IMDB.bin')"
   ]
  },
  {
   "cell_type": "code",
   "execution_count": 5,
   "id": "a413e45d-8e3b-4ad3-b821-b9c8a6e947b9",
   "metadata": {
    "tags": []
   },
   "outputs": [],
   "source": [
    "def evaluate_no(net, test_iter):\n",
    "    net = net.to(device[0])\n",
    "    net.eval()\n",
    "    valid_accs = []\n",
    "    with torch.no_grad():\n",
    "        for batch in tqdm(test_iter):\n",
    "            a, b, y = batch\n",
    "            a = a.to(device[0])\n",
    "            b = b.to(device[0])\n",
    "            y = y.to(device[0])\n",
    "            outputs = net(input_ids=a, token_type_ids=b, labels=y)\n",
    "            acc = (outputs.logits.argmax(dim=-1) == y).float().mean()\n",
    "            valid_accs.append(acc)\n",
    "    valid_acc = sum(valid_accs) / len(test_iter)\n",
    "    return valid_acc"
   ]
  },
  {
   "cell_type": "code",
   "execution_count": 6,
   "id": "c4b646ba-e3a3-4719-ab15-4989becff6a4",
   "metadata": {
    "tags": []
   },
   "outputs": [
    {
     "name": "stderr",
     "output_type": "stream",
     "text": [
      "  0%|          | 0/1250 [00:00<?, ?it/s]We strongly recommend passing in an `attention_mask` since your input_ids may be padded. See https://huggingface.co/docs/transformers/troubleshooting#incorrect-output-when-padding-tokens-arent-masked.\n",
      "100%|██████████| 1250/1250 [00:51<00:00, 24.36it/s]\n"
     ]
    },
    {
     "data": {
      "text/plain": [
       "tensor(0.4861, device='cuda:0')"
      ]
     },
     "execution_count": 6,
     "metadata": {},
     "output_type": "execute_result"
    }
   ],
   "source": [
    "evaluate_no(model, test_iter)"
   ]
  }
 ],
 "metadata": {
  "kernelspec": {
   "display_name": "Python 3 (ipykernel)",
   "language": "python",
   "name": "python3"
  },
  "language_info": {
   "codemirror_mode": {
    "name": "ipython",
    "version": 3
   },
   "file_extension": ".py",
   "mimetype": "text/x-python",
   "name": "python",
   "nbconvert_exporter": "python",
   "pygments_lexer": "ipython3",
   "version": "3.8.10"
  }
 },
 "nbformat": 4,
 "nbformat_minor": 5
}
